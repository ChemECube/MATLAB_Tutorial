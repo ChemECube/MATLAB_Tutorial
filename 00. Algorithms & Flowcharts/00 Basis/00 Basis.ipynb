{
 "cells": [
  {
   "cell_type": "markdown",
   "id": "3e758142-1a0f-4f3a-a69e-804c982a01da",
   "metadata": {},
   "source": [
    "# 00 Basis"
   ]
  },
  {
   "cell_type": "code",
   "execution_count": null,
   "id": "eb70b945-d4fc-40ec-b68d-3253379b6667",
   "metadata": {},
   "outputs": [],
   "source": []
  },
  {
   "cell_type": "code",
   "execution_count": null,
   "id": "6a756582-7bca-4610-bbd2-ee3e7e9f7239",
   "metadata": {},
   "outputs": [],
   "source": []
  },
  {
   "cell_type": "code",
   "execution_count": null,
   "id": "28d15014-e07b-459e-86c9-630a788519c0",
   "metadata": {},
   "outputs": [],
   "source": []
  }
 ],
 "metadata": {
  "kernelspec": {
   "display_name": "Python 3 (ipykernel)",
   "language": "python",
   "name": "python3"
  },
  "language_info": {
   "codemirror_mode": {
    "name": "ipython",
    "version": 3
   },
   "file_extension": ".py",
   "mimetype": "text/x-python",
   "name": "python",
   "nbconvert_exporter": "python",
   "pygments_lexer": "ipython3",
   "version": "3.8.12"
  }
 },
 "nbformat": 4,
 "nbformat_minor": 5
}
