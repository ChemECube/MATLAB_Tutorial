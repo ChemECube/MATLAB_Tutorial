{
 "cells": [
  {
   "cell_type": "markdown",
   "id": "f1f8cfac-3a5d-4c78-bba3-b59dcd88e3cb",
   "metadata": {},
   "source": [
    "<p  style=\"font-family:cursive; font-size:21pt\"\"> <img src=\"https://s22.picofile.com/file/8449797050/MATLAB.png\" width=\"23\"/> Vectors and Matrices(ANS)"
   ]
  },
  {
   "cell_type": "markdown",
   "id": "0413659f-c46b-4550-964e-0faddd720278",
   "metadata": {},
   "source": [
    "<div class=\"alert alert-block alert-danger\">\n",
    "<b>Exercises 01</b>"
   ]
  },
  {
   "cell_type": "code",
   "execution_count": null,
   "id": "f82e51d6-cb45-40fb-9b28-c529d3d3a160",
   "metadata": {},
   "outputs": [],
   "source": [
    "g = 3:4:27"
   ]
  },
  {
   "cell_type": "markdown",
   "id": "43ff93bd-4d06-4a61-9b97-8c482c10bd7d",
   "metadata": {},
   "source": [
    "<div class=\"alert alert-block alert-danger\">\n",
    "<b>Exercises 02</b>"
   ]
  },
  {
   "cell_type": "code",
   "execution_count": null,
   "id": "e77661ed-1a8b-4c53-8f4f-ed460aa8f29c",
   "metadata": {},
   "outputs": [],
   "source": [
    "M = [6.4:0.8:12]'"
   ]
  },
  {
   "cell_type": "markdown",
   "id": "9d959309-16fd-4afc-b18f-ac9ade756b58",
   "metadata": {},
   "source": [
    "<div class=\"alert alert-block alert-danger\">\n",
    "<b>Exercises 03</b>"
   ]
  },
  {
   "cell_type": "code",
   "execution_count": null,
   "id": "5d3e28da-be1f-4791-a454-e30a72ab4a63",
   "metadata": {},
   "outputs": [],
   "source": [
    "N = linspace(44, 23, 7)'"
   ]
  },
  {
   "cell_type": "markdown",
   "id": "70913e0e-bdb0-46fd-a792-9461e067434a",
   "metadata": {},
   "source": [
    "<div class=\"alert alert-block alert-danger\">\n",
    "<b>Exercises 04</b>"
   ]
  },
  {
   "cell_type": "code",
   "execution_count": null,
   "id": "b3ad58d2-8e1d-462a-b01f-cb4efd09662e",
   "metadata": {},
   "outputs": [],
   "source": [
    "A = [1:7; 7:-1:1 ;linspace(2, 9, 7)]"
   ]
  },
  {
   "cell_type": "markdown",
   "id": "6aa10fab-4dd5-419d-82c2-4fbe6d0fac90",
   "metadata": {},
   "source": [
    "<div class=\"alert alert-block alert-danger\">\n",
    "<b>Exercises 05</b>"
   ]
  },
  {
   "cell_type": "code",
   "execution_count": null,
   "id": "9b6d3cf7-ecf7-4c2e-9d03-267763838a75",
   "metadata": {},
   "outputs": [],
   "source": [
    "B=[linspace(4, 4, 5) linspace(5, 5, 4)]"
   ]
  },
  {
   "cell_type": "markdown",
   "id": "78536291-4750-40a5-99fa-99d966b5a87d",
   "metadata": {},
   "source": [
    "<div class=\"alert alert-block alert-danger\">\n",
    "<b>Exercises 06</b>"
   ]
  },
  {
   "cell_type": "code",
   "execution_count": null,
   "id": "87e4d4d4-4866-427f-afa6-3c0ad4bda1e2",
   "metadata": {},
   "outputs": [],
   "source": [
    "C = [linspace(6, 6, 5);linspace(8, 8, 5)]'"
   ]
  },
  {
   "cell_type": "markdown",
   "id": "e3c00d09-839e-42ce-922f-0e40fe3c786c",
   "metadata": {},
   "source": [
    "<div class=\"alert alert-block alert-danger\">\n",
    "<b>Exercises 07</b>"
   ]
  },
  {
   "cell_type": "code",
   "execution_count": null,
   "id": "02612dd1-eeb5-4a64-ac8d-7c7bf2c209ff",
   "metadata": {},
   "outputs": [],
   "source": [
    "D = [ones(3, 4) ;8:-2:2]"
   ]
  },
  {
   "cell_type": "markdown",
   "id": "e90ed05a-222c-49b6-b8c1-0111746db318",
   "metadata": {},
   "source": [
    "<div class=\"alert alert-block alert-danger\">\n",
    "<b>Exercises 08</b>"
   ]
  },
  {
   "cell_type": "code",
   "execution_count": null,
   "id": "06123956-ce2d-4e66-b601-1d88ba9655c6",
   "metadata": {},
   "outputs": [],
   "source": [
    "G = [ones(3, 5);zeros(3) ones(3, 2)]\n"
   ]
  },
  {
   "cell_type": "markdown",
   "id": "dd43248d-3ac3-4620-a71a-e99482ab643a",
   "metadata": {},
   "source": [
    "<div class=\"alert alert-block alert-danger\">\n",
    "<b>Exercises 09</b>"
   ]
  },
  {
   "cell_type": "code",
   "execution_count": null,
   "id": "c11b9e70-f14a-4ee2-8284-decee6dc2e2b",
   "metadata": {},
   "outputs": [],
   "source": [
    "a=[5 8 -1 0 2]\n",
    "b=[4 1 9 -2 3]\n",
    "c=[-3 5 0 6 1]"
   ]
  },
  {
   "cell_type": "code",
   "execution_count": null,
   "id": "fa119c4d-cd10-494a-8a63-216ab2f632f4",
   "metadata": {},
   "outputs": [],
   "source": [
    "# Part (a)\n",
    "D=[a(1:3) b(1:3) c(1:3)]"
   ]
  },
  {
   "cell_type": "code",
   "execution_count": null,
   "id": "5f2947dc-9c54-4ee9-a9d3-46a453bad314",
   "metadata": {},
   "outputs": [],
   "source": [
    "# Part (b)\n",
    "E=[a(3:5) b(3:5) c(3:5)]'"
   ]
  },
  {
   "cell_type": "markdown",
   "id": "4c44da87-d073-4364-a51d-5045e4f6dbc8",
   "metadata": {},
   "source": [
    "<div class=\"alert alert-block alert-danger\">\n",
    "<b>Exercises 10</b>"
   ]
  },
  {
   "cell_type": "code",
   "execution_count": null,
   "id": "9b0aadb1-12d4-4932-a1ee-ed1b5ff3388f",
   "metadata": {},
   "outputs": [],
   "source": [
    "d = [6 -1 4 0 -2 5]\n",
    "e = [7 5 9 0 1 3]"
   ]
  },
  {
   "cell_type": "code",
   "execution_count": null,
   "id": "4de2ee16-4ceb-4d39-9c03-dc83986df245",
   "metadata": {},
   "outputs": [],
   "source": [
    "# Part (a)\n",
    "M=[d(2:4);e(3:5);d(4:6)]"
   ]
  },
  {
   "cell_type": "code",
   "execution_count": null,
   "id": "589d541a-51d7-46af-9719-2a22620b1723",
   "metadata": {},
   "outputs": [],
   "source": [
    "# Part (b)\n",
    "N=[d(2:5)' e(3:6)']"
   ]
  },
  {
   "cell_type": "markdown",
   "id": "cfc6b389-ddaf-491d-8d97-6fdb308d0737",
   "metadata": {},
   "source": [
    "<div class=\"alert alert-block alert-danger\">\n",
    "<b>Exercises 11</b>"
   ]
  },
  {
   "cell_type": "code",
   "execution_count": null,
   "id": "a3f431c3-d9e5-4b9c-84ec-1ed596b0e371",
   "metadata": {},
   "outputs": [],
   "source": [
    "M = reshape(1:2:29, 3, 5)"
   ]
  },
  {
   "cell_type": "code",
   "execution_count": null,
   "id": "e45cf5cd-6741-4512-9076-b02762cc183b",
   "metadata": {},
   "outputs": [],
   "source": [
    "# Part (a)\n",
    "Va = M(3,:)"
   ]
  },
  {
   "cell_type": "code",
   "execution_count": null,
   "id": "049e84c7-090b-4d6a-b003-5ab15ac1fd0d",
   "metadata": {},
   "outputs": [],
   "source": [
    "# Part (b)\n",
    "Vb = M(:,4)"
   ]
  },
  {
   "cell_type": "code",
   "execution_count": null,
   "id": "6f7922b3-097a-44e2-847a-ce164c9fa1a1",
   "metadata": {},
   "outputs": [],
   "source": [
    "# Part (c)\n",
    "Vc = [M(2,:) M(:,3)']"
   ]
  },
  {
   "cell_type": "markdown",
   "id": "043b4adb-5c73-4026-9796-0443235d8a9b",
   "metadata": {},
   "source": [
    "<div class=\"alert alert-block alert-danger\">\n",
    "<b>Exercises 12</b>"
   ]
  },
  {
   "cell_type": "code",
   "execution_count": null,
   "id": "797e71b3-b7ea-4ee2-824f-a0964ed0b9e8",
   "metadata": {},
   "outputs": [],
   "source": [
    "N = reshape(0:3:51, 3, 6)"
   ]
  },
  {
   "cell_type": "code",
   "execution_count": null,
   "id": "3012f34f-7d64-4e5e-8aca-49f75dec3c54",
   "metadata": {},
   "outputs": [],
   "source": [
    "# Part (a)\n",
    "Ua = [N(1:3) N(3, 4:6)]"
   ]
  },
  {
   "cell_type": "code",
   "execution_count": null,
   "id": "b0bde3b9-a010-451c-a18f-95a388d6725a",
   "metadata": {},
   "outputs": [],
   "source": [
    "# Part (b)\n",
    "Ub=[N(:,1);N(:,3);N(:,6)]"
   ]
  },
  {
   "cell_type": "markdown",
   "id": "6ffa41a4-a06b-4a24-a518-553164f36f9c",
   "metadata": {},
   "source": [
    "<div class=\"alert alert-block alert-danger\">\n",
    "<b>Exercises 13</b>"
   ]
  },
  {
   "cell_type": "code",
   "execution_count": null,
   "id": "279bb49c-f519-41c7-b53f-6a1bb129442c",
   "metadata": {},
   "outputs": [],
   "source": [
    "G=[0.1:0.1:0.7; 10:-1:4; 0:0.2:1.2; 5:-2:-7]"
   ]
  },
  {
   "cell_type": "code",
   "execution_count": null,
   "id": "b1a3ec8e-7392-4f1c-9c9a-f43dacdb80f6",
   "metadata": {},
   "outputs": [],
   "source": [
    "# Part (a)\n",
    "Ma = G([1 3 4], [1 2 6 7])"
   ]
  },
  {
   "cell_type": "code",
   "execution_count": null,
   "id": "b9176144-e2af-4837-8d8a-717331f053d5",
   "metadata": {},
   "outputs": [],
   "source": [
    "# Part (b)\n",
    "Mb = G([1:3], [2 4 6])"
   ]
  },
  {
   "cell_type": "markdown",
   "id": "4d207417-834f-4425-be4d-ec76987154ab",
   "metadata": {},
   "source": [
    "<div class=\"alert alert-block alert-danger\">\n",
    "<b>Exercises 14</b>"
   ]
  },
  {
   "cell_type": "code",
   "execution_count": null,
   "id": "9b232db5-7775-4a71-9fc6-08bfff43a855",
   "metadata": {},
   "outputs": [],
   "source": [
    "K = [0.25:0.25:1.75; 2:2:14; 25:5:55]"
   ]
  },
  {
   "cell_type": "code",
   "execution_count": null,
   "id": "f1a00a0f-0839-46f0-aaf0-ecf29dc2c80a",
   "metadata": {},
   "outputs": [],
   "source": [
    "# Part (a)\n",
    "Ga = [K(:,2)' K(:,5)'; K(2,[1:6]); K(3,[2:7])]"
   ]
  },
  {
   "cell_type": "code",
   "execution_count": null,
   "id": "05d9a149-9aac-4b2c-9e3c-0685815600fe",
   "metadata": {},
   "outputs": [],
   "source": [
    "# Part (b)\n",
    "Gb = K([1 2], [3:6])"
   ]
  },
  {
   "cell_type": "markdown",
   "id": "af200b7a-3073-4232-a5d0-95a242c2cb70",
   "metadata": {},
   "source": [
    "<div class=\"alert alert-block alert-danger\">\n",
    "<b>Exercises 15</b>"
   ]
  },
  {
   "cell_type": "code",
   "execution_count": null,
   "id": "6c7e7374-391c-44c1-b541-5ab2ef488db4",
   "metadata": {},
   "outputs": [],
   "source": [
    "# Part (a)\n",
    "A = [eye(3) eye(3)]"
   ]
  },
  {
   "cell_type": "code",
   "execution_count": null,
   "id": "53d7c3e0-02a7-4ee1-8ee8-407b66abcebe",
   "metadata": {},
   "outputs": [],
   "source": [
    "# Part (b)\n",
    "B([1 2], [4 5]) = ones(2)"
   ]
  },
  {
   "cell_type": "code",
   "execution_count": null,
   "id": "e2daa66f-65c7-40a3-ab7d-1ac9aa000280",
   "metadata": {},
   "outputs": [],
   "source": [
    "# Part (c)\n",
    "C = [ones(3, 1) zeros(3, 2) [ones(1); zeros(2, 1)]]"
   ]
  },
  {
   "cell_type": "markdown",
   "id": "2ae92c73-f93d-48e8-93ec-293ba8682317",
   "metadata": {},
   "source": [
    "<div class=\"alert alert-block alert-danger\">\n",
    "<b>Exercises 16</b>"
   ]
  },
  {
   "cell_type": "code",
   "execution_count": null,
   "id": "9dffcd9d-9151-4158-b150-d9dd7a3669f3",
   "metadata": {},
   "outputs": [],
   "source": [
    "A = eye(2)"
   ]
  },
  {
   "cell_type": "code",
   "execution_count": null,
   "id": "51fe78ef-3d03-4a67-b4f6-6f5babed9754",
   "metadata": {},
   "outputs": [],
   "source": [
    "B = ones(1, 2)"
   ]
  },
  {
   "cell_type": "code",
   "execution_count": null,
   "id": "5ba78a04-6969-426e-a4a1-0a3d37bfaa50",
   "metadata": {},
   "outputs": [],
   "source": [
    "C = zeros(3)"
   ]
  },
  {
   "cell_type": "code",
   "execution_count": null,
   "id": "7a820132-5bb3-43dd-b72d-af4afa184e28",
   "metadata": {},
   "outputs": [],
   "source": [
    "D = [C [A; B]]"
   ]
  },
  {
   "cell_type": "markdown",
   "id": "0d5acb03-d58c-4db5-97fc-ecf982e8e3dc",
   "metadata": {},
   "source": [
    "<div class=\"alert alert-block alert-danger\">\n",
    "<b>Exercises 17</b>"
   ]
  },
  {
   "cell_type": "code",
   "execution_count": null,
   "id": "e46b4456-dbd6-4681-a9d2-3b21b444f0ad",
   "metadata": {},
   "outputs": [],
   "source": [
    "a = [-2 5 7; 3 -6 2; 9 -3 8];\n",
    "b = [-17.5; 40.6; 56.2];\n",
    "x = a\\b"
   ]
  },
  {
   "cell_type": "markdown",
   "id": "236af4cd-d642-4d0f-a70b-08d5e06c2da2",
   "metadata": {},
   "source": [
    "<div class=\"alert alert-block alert-danger\">\n",
    "<b>Exercises 18</b>"
   ]
  },
  {
   "cell_type": "code",
   "execution_count": null,
   "id": "e9f0eaa1-4841-478a-8e50-e6caec6ccc6f",
   "metadata": {},
   "outputs": [],
   "source": [
    "a = [2 -4 5 -3.5 1.8 4;\n",
    "    -1.5 3 4 -1 -2 5;\n",
    "     5 1 -6 3 -2 2;\n",
    "     1.2 -2 3 4 -1 4;\n",
    "     4 1 -2 -3 -4 1.5;\n",
    "     3 1 -1 4 -2 -4]\n",
    "b = [52.52; -21.1; -27.6; 9.16; -17.9; -16.2]\n",
    "x = a\\b"
   ]
  },
  {
   "cell_type": "markdown",
   "id": "015f3af3-1b36-4c3f-8c26-0c6abb8501d1",
   "metadata": {},
   "source": []
  },
  {
   "cell_type": "markdown",
   "id": "a4e9a74a-907e-456b-a5a8-9c4f0951df20",
   "metadata": {},
   "source": [
    "<img src=\"https://s23.picofile.com/file/8449797826/celebrate.png\" alt=\"notebook\" width=200 align=\"center\" />"
   ]
  }
 ],
 "metadata": {
  "kernelspec": {
   "display_name": "Python 3 (ipykernel)",
   "language": "python",
   "name": "python3"
  },
  "language_info": {
   "codemirror_mode": {
    "name": "ipython",
    "version": 3
   },
   "file_extension": ".py",
   "mimetype": "text/x-python",
   "name": "python",
   "nbconvert_exporter": "python",
   "pygments_lexer": "ipython3",
   "version": "3.8.12"
  }
 },
 "nbformat": 4,
 "nbformat_minor": 5
}
