{
 "cells": [
  {
   "cell_type": "markdown",
   "id": "24122191-27ae-419c-8552-78c821d30371",
   "metadata": {},
   "source": [
    "# Session 01"
   ]
  },
  {
   "cell_type": "markdown",
   "id": "a292c2e5-89f5-4996-a646-aa2ba5ecfa4d",
   "metadata": {},
   "source": [
    "<img src=\"https://s23.picofile.com/file/8449677568/MatLab.png\" alt=\"fishy\" class=\"bg-primary\" width=\"305px\" align=\"center\">"
   ]
  },
  {
   "cell_type": "markdown",
   "id": "5d3cff38-cf17-40b8-9ab9-18ae1aae46cb",
   "metadata": {},
   "source": [
    "<div class=\"alert alert-block alert-info\">\n",
    "<b>Problem 01</b>\n",
    "<p style=\"font-family: Comic Sans; font-size:11pt\"> \n",
    "Create a variable g that is a row vector in which the first element is $3$ and the\n",
    "last element is $27$, with an increment of 4 between the elements $(3, 7, 11, ... ,\n",
    "27)$."
   ]
  },
  {
   "cell_type": "code",
   "execution_count": null,
   "id": "8065dcb0-da90-41a4-b2a3-6506e9de664e",
   "metadata": {},
   "outputs": [],
   "source": [
    "\n"
   ]
  },
  {
   "cell_type": "markdown",
   "id": "1ad1448c-d1d9-4f81-8f25-2cc360e255b7",
   "metadata": {},
   "source": [
    "<div class=\"alert alert-block alert-info\">\n",
    "<b>Problem 02</b>\n",
    "<p style=\"font-family: Comic Sans; font-size:11pt\"> \n",
    "Create a variable M that is a column vector in which the first element is $6.4$,\n",
    "the elements increase with increments of $0.8$, and the last element is $12$. (A\n",
    "column vector can be created by the transpose of a row vector.)"
   ]
  },
  {
   "cell_type": "code",
   "execution_count": null,
   "id": "eff67ee8-a04b-42dc-911e-bb5782a98c0e",
   "metadata": {},
   "outputs": [],
   "source": [
    "\n"
   ]
  },
  {
   "cell_type": "markdown",
   "id": "76c93a49-7933-44e8-b766-b49da86b6934",
   "metadata": {},
   "source": [
    "<div class=\"alert alert-block alert-info\">\n",
    "<b>Problem 03</b>\n",
    "<p style=\"font-family: Comic Sans; font-size:11pt\"> \n",
    "Create a variable $N$ that is a column vector with seven equally spaced ele-\n",
    "ments in which the first element is $44$ and the last element is $23$. (A column vector can be created by the transpose of a row vector.)"
   ]
  },
  {
   "cell_type": "code",
   "execution_count": null,
   "id": "02647941-657c-4aee-b98f-951500b9a256",
   "metadata": {},
   "outputs": [],
   "source": [
    "\n"
   ]
  },
  {
   "cell_type": "markdown",
   "id": "e4779d87-33b4-49d2-9bc1-cbd9ff796b6f",
   "metadata": {},
   "source": [
    "<div class=\"alert alert-block alert-info\">\n",
    "<b>Problem 04</b>\n",
    "<p style=\"font-family: Comic Sans; font-size:11pt\"> \n",
    "Create the following matrix by assigning vectors with constant spacing to the rows (use the $linspace$ command for the third row). Do not type indi-\n",
    "vidual elements explicitly.\n",
    "    \n",
    "$$ A = \\begin{bmatrix} 1 & 2 & 3 & 4 & 5 & 6 & 7 \\\\ 7 & 6 & 5 & 4 & 3 & 2 & 1 \\\\ 2 & 3.1667 & 4.3333 & 5.5 & 6.6667 & 7.8333 & 9 \\\\ \\end{bmatrix}$$"
   ]
  },
  {
   "cell_type": "code",
   "execution_count": null,
   "id": "d0e960e5-b7b2-4c92-b809-e820674d31c9",
   "metadata": {},
   "outputs": [],
   "source": [
    "\n"
   ]
  },
  {
   "cell_type": "markdown",
   "id": "5fcd59e0-cf31-4f19-ba07-c53eabb508e6",
   "metadata": {},
   "source": [
    "<div class=\"alert alert-block alert-info\">\n",
    "<b>Problem 05</b>\n",
    "<p style=\"font-family: Comic Sans; font-size:11pt\">\n",
    "Create the following vector by using the linspace command. Do not type\n",
    "individual elements explicitly.\n",
    "    \n",
    "$$ B = \\begin{bmatrix} 4 & 4 & 4 & 4 & 4 & 5 & 5 & 5 & 5 \\\\ \\end{bmatrix}$$"
   ]
  },
  {
   "cell_type": "code",
   "execution_count": null,
   "id": "c00f1c3d-2db2-4b2c-ad7a-211e0f3ff342",
   "metadata": {},
   "outputs": [],
   "source": [
    "\n"
   ]
  },
  {
   "cell_type": "markdown",
   "id": "8c7e514f-a071-4162-850e-e3d2614b8f2f",
   "metadata": {},
   "source": [
    "<div class=\"alert alert-block alert-info\">\n",
    "<b>Problem 06</b>\n",
    "<p style=\"font-family: Comic Sans; font-size:11pt\">\n",
    "    Create the following matrix by typing one command. Do not type individ-\n",
    "ual elements explicitly.\n",
    "    $$ B = \\begin{bmatrix} 6 & 8 \\\\  6 & 8  \\\\ 6 & 8 \\\\ 6 & 8 \\\\ 6 & 8 \\end{bmatrix}$$"
   ]
  },
  {
   "cell_type": "code",
   "execution_count": null,
   "id": "8e3212b6-10eb-44d5-a124-886667fd274e",
   "metadata": {},
   "outputs": [],
   "source": [
    "\n"
   ]
  },
  {
   "cell_type": "markdown",
   "id": "e2367c7f-c317-4f97-933e-91dd2eb94203",
   "metadata": {},
   "source": [
    "<div class=\"alert alert-block alert-info\">\n",
    "<b>Problem 06</b>\n",
    "<p style=\"font-family: Comic Sans; font-size:11pt\">\n",
    " Create the following matrix by typing one command. Do not type individ-\n",
    "ual elements explicitly.\n",
    "    \n",
    "   $$ B = \\begin{bmatrix} 1 & 1 & 1 & 1 \\\\ 1 & 1 & 1 & 1 \\\\ 1 & 1 & 1 & 1 \\\\ 8 & 6 & 4 & 2 \\\\ \\end{bmatrix}$$ \n",
    "    "
   ]
  },
  {
   "cell_type": "markdown",
   "id": "55bfe941-5667-4cf9-a07d-9902e10898f9",
   "metadata": {},
   "source": []
  },
  {
   "cell_type": "markdown",
   "id": "1340c522-0308-4e5f-a472-70f2e6d39fcc",
   "metadata": {},
   "source": []
  },
  {
   "cell_type": "markdown",
   "id": "10a95dec-e7fc-491f-a33b-852b622cb110",
   "metadata": {},
   "source": []
  },
  {
   "cell_type": "markdown",
   "id": "1b3ed428-2341-457e-bf9e-0ca59c36d9e1",
   "metadata": {},
   "source": []
  },
  {
   "cell_type": "markdown",
   "id": "3521807e-3dbd-463b-a7db-3ddaabd64e7a",
   "metadata": {},
   "source": []
  },
  {
   "cell_type": "markdown",
   "id": "0d134661-ecf5-4b3c-8ea9-1e3498275b72",
   "metadata": {},
   "source": []
  },
  {
   "cell_type": "markdown",
   "id": "3f6ead03-56e3-4d94-aff0-02f22e99e092",
   "metadata": {},
   "source": []
  },
  {
   "cell_type": "markdown",
   "id": "a8e3ef7a-fc9c-45db-86bb-15d4400f7f88",
   "metadata": {},
   "source": []
  },
  {
   "cell_type": "markdown",
   "id": "1af9a7c1-4d2d-4541-b90e-a4d91ab1db1d",
   "metadata": {},
   "source": []
  },
  {
   "cell_type": "raw",
   "id": "e3665e29-5815-43a8-a7e3-d73b0827cc64",
   "metadata": {},
   "source": []
  },
  {
   "cell_type": "markdown",
   "id": "9db6509e-9fef-4fd4-86e0-7fecfb552485",
   "metadata": {},
   "source": []
  },
  {
   "cell_type": "markdown",
   "id": "2cc3b4d5-46d3-4c0e-995a-95a70434c2d2",
   "metadata": {},
   "source": []
  },
  {
   "cell_type": "markdown",
   "id": "55ed1db7-ea4a-480b-9a4a-21fc58200bc3",
   "metadata": {},
   "source": []
  },
  {
   "cell_type": "markdown",
   "id": "74742b44-16d7-44b6-add2-3856285d41ce",
   "metadata": {},
   "source": []
  },
  {
   "cell_type": "markdown",
   "id": "bb9393df-4f5e-4421-94de-f94f2e2c7316",
   "metadata": {},
   "source": []
  }
 ],
 "metadata": {
  "kernelspec": {
   "display_name": "Python 3 (ipykernel)",
   "language": "python",
   "name": "python3"
  },
  "language_info": {
   "codemirror_mode": {
    "name": "ipython",
    "version": 3
   },
   "file_extension": ".py",
   "mimetype": "text/x-python",
   "name": "python",
   "nbconvert_exporter": "python",
   "pygments_lexer": "ipython3",
   "version": "3.8.12"
  }
 },
 "nbformat": 4,
 "nbformat_minor": 5
}
