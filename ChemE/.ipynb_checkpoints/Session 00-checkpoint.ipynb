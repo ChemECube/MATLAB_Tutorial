{
 "cells": [
  {
   "cell_type": "markdown",
   "id": "d9d24974-f24d-48be-9372-2e4593855418",
   "metadata": {},
   "source": [
    "# Session 00"
   ]
  },
  {
   "cell_type": "markdown",
   "id": "f3bbedc2-f284-47b6-8692-e936f29c7a0e",
   "metadata": {},
   "source": [
    "<img src=\"https://s23.picofile.com/file/8449677568/MatLab.png\" alt=\"fishy\" class=\"bg-primary\" width=\"200px\">"
   ]
  },
  {
   "cell_type": "markdown",
   "id": "98fe34d9-584a-4e43-9513-22d848503b64",
   "metadata": {},
   "source": [
    "<div class=\"alert alert-block alert-info\">\n",
    "<b>Problem 01</b>\n",
    "<p style=\"font-family: Comic Sans; font-size:11pt\"> \n",
    "Calculate:\n",
    "$$  A = \\sqrt[3]{8 + \\frac{80}{2.6}} + e^{3.5} $$\n",
    "&nbsp;\n",
    "$$ B = (\\frac{1}{\\sqrt{75}} + \\frac{73}{3.1^{3}})^{1.4} + 5.5(0.41) $$\n",
    "&nbsp;\n",
    "$$ C = (\\frac{23 + \\sqrt[3]{45}}{16\\times0.7}) + \\log 589006 $$\n",
    "&nbsp; \n",
    "$$ D = (\\frac{sin^{2}{37^{\\circ}}}{cos^{2}{20^{\\circ}}}) + tan({64^{\\circ}})cos({15^{\\circ}}) $$\n",
    "&nbsp;     \n",
    "$$ E = 2^3 +5\\times 6\\div \\frac{3}{2}\\sqrt{\\left(2\\times 26-15+\\frac{9}{25}\\right)}$$\n",
    "&nbsp; \n",
    "$$ F = 3\\log \\left(3\\ldotp 2\\times 36\\div 12\\pi \\right)$$\n",
    "&nbsp; \n",
    "$$ G = \\ln \\left(\\sqrt{39+2\\pi \\times \\frac{9}{23}}\\right)$$\n",
    "&nbsp;\n",
    "$$ H =  \\sqrt{3\\sqrt{4}\\left(\\sin \\left({30}^{\\circ } \\right)\\right)}\\left(\\frac{\\cos \\left({60}^{\\circ } \\right)}{\\tan \\left({30}^{\\circ } \\right)}\\right)$$\n",
    "</div>"
   ]
  },
  {
   "cell_type": "code",
   "execution_count": null,
   "id": "754442bf-2347-4330-a18c-451c1bfab418",
   "metadata": {},
   "outputs": [],
   "source": [
    "# Part (A):\n",
    "# Part (B):\n",
    "# Part (C):\n",
    "# Part (D):\n",
    "# Part (E):\n",
    "# Part (F):\n",
    "# Part (G):\n",
    "# Part (H):"
   ]
  },
  {
   "cell_type": "markdown",
   "id": "29d7ea2e-0c66-4b60-9a19-50936fe818d5",
   "metadata": {},
   "source": [
    "<div class=\"alert alert-block alert-info\">\n",
    "<b>Problem 02</b>\n",
    "<p style=\"font-family: Comic Sans; font-size:11pt\"> \n",
    "Suppose that $x=3$ and $y=5$ . Use MATLAB to evaluate the following expression:\n",
    "$$ A = \\frac{x^2 y^3 }{{\\left(x-y\\right)}^2 }$$\n",
    "    &nbsp;\n",
    "$$ B = \\sqrt{\\frac{x^3 +y^6 }{\\sqrt{\\frac{x}{7}}}}$$\n",
    "    &nbsp;\n",
    "$$ C = \\ln \\left(\\sqrt{x^4 +y+4\\textrm{xy}}\\right)$$\n",
    "    &nbsp;\n",
    "$$ D = \\frac{x^{-2} }{y^{-4} -y^{-5} }$$\n",
    "    &nbsp;\n",
    "$$ E = \\sqrt[3]{\\frac{x^2 +{\\textrm{xy}}^3 +3\\textrm{xy}}{{\\left(10-x\\right)}^2 \\left(x+y\\right)}}$$\n",
    "    &nbsp;\n",
    "$$ F = \\frac{4x\\sin \\left({30}^{\\circ } \\right)+6y^{\\left(2+x\\right)} +\\textrm{xy}}{{\\left({\\textrm{xcos}}^2 \\left({30}^{\\circ } \\right)+\\sin \\left({60}^{\\circ } \\right)\\right)}^2 }-3\\textrm{xy}$$\n",
    "    &nbsp;"
   ]
  },
  {
   "cell_type": "code",
   "execution_count": null,
   "id": "d692f13d-3e00-4b2c-bfa7-a9d8b7846daa",
   "metadata": {},
   "outputs": [],
   "source": [
    "# Part (A):\n",
    "# Part (B):\n",
    "# Part (C):\n",
    "# Part (D):\n",
    "# Part (E):\n",
    "# Part (F):"
   ]
  },
  {
   "cell_type": "markdown",
   "id": "9e5fbb75-e436-4260-8677-8c6340b5da1f",
   "metadata": {},
   "source": [
    "<div class=\"alert alert-block alert-info\">\n",
    "<b>Problem 03</b>\n",
    "<p style=\"font-family: Comic Sans; font-size:11pt\"> \n",
    "Define two variables: $ alpha = \\frac{\\pi}{8} $, and $beta = \\frac{\\pi}{6}$. Using these variables, show that the following trigonometric identity is correct by calculating the values of the left and right sides of the equation.\n",
    "    \n",
    "$$ tan(\\alpha + \\beta) = \\frac{tan(\\alpha) + tan(\\beta)}{1-tan(\\alpha)tan(\\beta)} $$"
   ]
  },
  {
   "cell_type": "code",
   "execution_count": null,
   "id": "9f5451b2-c18e-45e3-abad-ad4718b72a3f",
   "metadata": {},
   "outputs": [],
   "source": [
    "alpha = pi/8; beta = pi/6;\n",
    "Left = tan(alpha + beta)\n",
    "Right = (tan(alpha) + tan(beta))/(1 - tan(alpha)*tan(beta))"
   ]
  },
  {
   "cell_type": "markdown",
   "id": "f1b3f296-5fe0-43e6-b68a-841032242201",
   "metadata": {},
   "source": [
    "<div class=\"alert alert-block alert-info\">\n",
    "<b>Problem 04</b>\n",
    "<p style=\"font-family: Comic Sans; font-size:11pt\"> \n",
    "Given:     \n",
    "$$ \\int x^{2}cos(x)dx = 2xcos(x)+(x^{2}-2)sin(x).  $$\n",
    "\n",
    "<p style=\"font-family: Comic Sans; font-size:11pt\"> \n",
    "Use MATLAB to calculate the:\n",
    "$$ \\int_{\\frac{\\pi}{3}}^{\\frac{\\pi}{6}} x^{2}cos(x)dx $$\n",
    "    "
   ]
  },
  {
   "cell_type": "code",
   "execution_count": null,
   "id": "11f44f7b-83cf-43e0-8325-16efc49b0080",
   "metadata": {},
   "outputs": [],
   "source": [
    "xa = pi/6; xb = pi/3;\n",
    "Ia = 2*xa*cos(xa) + (xa^2-2)*sin(xa)\n",
    "Ib = 2*xb*cos(xb) + (xb^2-2)*sin(xb)\n",
    "I = Ib - Ia"
   ]
  },
  {
   "cell_type": "markdown",
   "id": "26878743-c0f4-4509-b878-f2fae1b859e9",
   "metadata": {},
   "source": [
    "<div class=\"alert alert-block alert-info\">\n",
    "<b>Problem 05</b>\n",
    "<p style=\"font-family: Comic Sans; font-size:11pt\"> \n",
    "The arc length of a segment of a parabola $ABC$ is given by: \n",
    "\n",
    "&nbsp;  \n",
    "<img src=\"https://s23.picofile.com/file/8449677050/01.jpeg\" alt=\"fishy\" class=\"bg-primary\" width=\"205px\">\n",
    "    \n",
    "$$ L_{ABC} = \\sqrt{a^{2} + 4h^{2}} +\\frac{a^{2}}{2h}\\ln({\\frac{2h}{a}+\\sqrt{(\\frac{2h}{a})^{2}+1}}) $$\n",
    "\n",
    "<p style=\"font-family: Comic Sans; font-size:11pt\"> \n",
    "Determine $L_{ABC}$ if $a=8$ in. and $h=13$ in.\n",
    "    "
   ]
  },
  {
   "cell_type": "code",
   "execution_count": null,
   "id": "b733dbc6-48d6-420b-9fd3-4ed1a59e0824",
   "metadata": {},
   "outputs": [],
   "source": [
    "a = 8; h = 13;\n",
    "L = sqrt(a^2 + 4*h^2) + a^2*log(2*h/a + sqrt((2*h/a)^2 + 1))/(2*h)"
   ]
  },
  {
   "cell_type": "markdown",
   "id": "1ed918fc-9cf3-430c-877a-438b5213baaa",
   "metadata": {},
   "source": [
    "<div class=\"alert alert-block alert-info\">\n",
    "<b>Problem 06</b>\n",
    "&nbsp; \n",
    "<p style=\"font-family: Comic Sans; font-size:11pt\">\n",
    "A frustum of cone is filled with ice cream such that\n",
    "the portion above the cone is a hemisphere. Define\n",
    "the variables $d_{i}=1.25$ in., $d_{0}=2.25$ in., $h=2$ in., and determine the volume of the ice cream.  \n",
    "&nbsp; \n",
    "&nbsp; \n",
    "&nbsp; \n",
    "    \n",
    "<img src=\"https://s22.picofile.com/file/8449677250/02.jpeg\" alt=\"fishy\" class=\"bg-primary\" width=\"210px\">\n",
    "\n"
   ]
  },
  {
   "cell_type": "code",
   "execution_count": null,
   "id": "80161dc8-15c4-4f38-ab96-f40d77b2e8fa",
   "metadata": {},
   "outputs": [],
   "source": [
    "ri = 1.25/2; ro = 2.25/2; h = 2;\n",
    "Vcon = pi*h/3*(ri^2 + ri*ro + ro^2);\n",
    "Vtop = 2*pi*ro^3;\n",
    "V = Vcon + Vtop"
   ]
  },
  {
   "cell_type": "markdown",
   "id": "8acc37f8-da6c-43ac-9e3d-1fe9000771db",
   "metadata": {},
   "source": [
    "<div class=\"alert alert-block alert-info\">\n",
    "<b>Problem 07</b>\n",
    "&nbsp; \n",
    "<p style=\"font-family: Comic Sans; font-size:11pt\">\n",
    "4217 eggs have to be packed in boxes that can hold 36 eggs each. By typing\n",
    "one line (command) in the Command Window, calculate how many eggs\n",
    "will remain unpacked if every box that is used has to be full. (Hint: use\n",
    "MATLAB built-in function fix.)"
   ]
  },
  {
   "cell_type": "code",
   "execution_count": null,
   "id": "15ca5925-1d76-4bac-bd8b-9433a16dc870",
   "metadata": {},
   "outputs": [],
   "source": [
    "4217 - fix(4217/36)*36"
   ]
  },
  {
   "cell_type": "markdown",
   "id": "ddd31a6a-a80f-47f2-85dd-f5cfb20276f2",
   "metadata": {},
   "source": [
    "<div class=\"alert alert-block alert-info\">\n",
    "<b>Problem 08</b>\n",
    "&nbsp; \n",
    "<p style=\"font-family: Comic Sans; font-size:11pt\">\n",
    "777 people have to be transported using buses that have 46 seats and vans\n",
    "that have 12 seats. Calculate how many buses are needed if all the buses have\n",
    "to be full, and how many seats will remain empty in the vans if enough vans\n",
    "are used to transport all the people that did not fit into the buses. (Hint: use\n",
    "MATLAB built-in functions fix. and ceil)"
   ]
  },
  {
   "cell_type": "code",
   "execution_count": null,
   "id": "ef8d3952-6e37-4a87-b6f4-f41149b2480a",
   "metadata": {},
   "outputs": [],
   "source": [
    "nBuses=fix(777/46)\n",
    "nVans=ceil(nPeoLeft/12)\n",
    "nSeatEmp=nVans*12 - nPeoLeft"
   ]
  },
  {
   "cell_type": "markdown",
   "id": "434f9eba-ad9f-49b5-90ae-35cd95438d20",
   "metadata": {},
   "source": [
    "<div class=\"alert alert-block alert-info\">\n",
    "<b>Problem 09</b>\n",
    "&nbsp; \n",
    "<p style=\"font-family: Comic Sans; font-size:11pt\">\n",
    "The voltage difference $V_{ab}$ between points a\n",
    "and $b$ in the Wheatstone bridge circuit is given\n",
    "by:  \n",
    "    \n",
    "$$ V_{ab} = V(\\frac{c-d}{(c+1)(d+1)}) $$\n",
    "&nbsp; \n",
    "&nbsp; \n",
    "&nbsp; \n",
    "    \n",
    "<img src=\"https://s22.picofile.com/file/8449677284/03.jpeg\" alt=\"fishy\" class=\"bg-primary\" width=\"210px\">\n",
    "\n",
    "<p style=\"font-family: Comic Sans; font-size:11pt\">    \n",
    "where $ c = \\frac{R_{2}}{R_{1}} $ and $ d = \\frac{R_{3}}{R_{4}} $ the  $ V_{ab} $ if $V = 15 $ volts, $R_{1} = 119.8$ ohms, $R_{2} = 120.5$ ohms, $R_{3} = 121.2$ ohms, $R_{4} = 119.3$ ohms.\n",
    "\n"
   ]
  },
  {
   "cell_type": "code",
   "execution_count": null,
   "id": "1769244c-49b2-4cd9-9a06-e66bdcc9cca0",
   "metadata": {},
   "outputs": [],
   "source": [
    "format short\n",
    "V = 15; R1 = 119.8; R2 = 120.5; R3 = 121.2; R4 = 119.3;\n",
    "c = R2/R1; d = R3/R4;\n",
    "Vab = V*(c - d)/((c + 1)*(d + 1))"
   ]
  },
  {
   "cell_type": "markdown",
   "id": "ff49419e-f617-4fa4-9c6f-5a70530cbe7f",
   "metadata": {},
   "source": [
    "<div class=\"alert alert-block alert-info\">\n",
    "<b>Problem 10</b>\n",
    "&nbsp; \n",
    "<p style=\"font-family: Comic Sans; font-size:11pt\">\n",
    "The current in a series RCL circuit is given\n",
    "by: \n",
    "    \n",
    "$$ I = \\frac{V}{\\sqrt{R^{2} +(\\omega L - \\frac{1}{\\omega C})^{2}}} $$\n",
    "&nbsp; \n",
    "&nbsp; \n",
    "&nbsp; \n",
    "    \n",
    "<img src=\"https://s22.picofile.com/file/8449677384/04.jpeg\" alt=\"fishy\" class=\"bg-primary\" width=\"210px\">\n",
    "\n",
    "<p style=\"font-family: Comic Sans; font-size:11pt\">    \n",
    "where $ \\omega = 2\\pi f$ . Calculate $I$ for the circuit shown if the supply voltage is $80 V$, $f = 50 Hz$, $ R = 6 \\Omega$ ,$ L = 400\\times10^{-3} H$, and $C = 40\\times10^{-6} F$.\n",
    "\n"
   ]
  },
  {
   "cell_type": "code",
   "execution_count": null,
   "id": "94a12d2f-69bc-4e53-8d9a-a9c3dac2aae0",
   "metadata": {},
   "outputs": [],
   "source": [
    "V = 80; R = 6; f = 50; L = 400E-3; C = 40E-6;\n",
    "w = 2*pi*f;\n",
    "I = V/sqrt(R^2 + (w*L - 1/(w*C))^2)"
   ]
  },
  {
   "cell_type": "markdown",
   "id": "09dc3774-7a66-436c-9b61-4a9cb0a4f44e",
   "metadata": {},
   "source": [
    "<div class=\"alert alert-block alert-info\">\n",
    "<b>Problem 11</b>\n",
    "&nbsp; \n",
    "<p style=\"font-family: Comic Sans; font-size:11pt\">\n",
    "The number of permutations of taking r objects out of n objects with-\n",
    "out repetition is given by:\n",
    "$$ P(n, r) = \\frac{n!}{(n-r)!}$$\n",
    "<p style=\"font-family: Comic Sans; font-size:11pt\">\n",
    "(a) Determine how many 6-letter passwords can be formed from the 26 let-\n",
    "ters in the English alphabet if a letter can only be used once.\n",
    "&nbsp; \n",
    "<p style=\"font-family: Comic Sans; font-size:11pt\">    \n",
    "(b) How many passwords can be formed if the digits $0, 1, 2, ....., 9$ can be\n",
    "used in addition to the letters."
   ]
  },
  {
   "cell_type": "code",
   "execution_count": null,
   "id": "720fddb3-e7c8-4887-a6f9-07318e60f62d",
   "metadata": {},
   "outputs": [],
   "source": [
    "# Part (a):\n",
    "n=26; r=6;\n",
    "P=factorial(n)/factorial(n-r)"
   ]
  },
  {
   "cell_type": "code",
   "execution_count": null,
   "id": "dd0ec1b3-566b-47fc-81e3-f567b7cada13",
   "metadata": {},
   "outputs": [],
   "source": [
    "# Part (B):\n",
    "n = 36; r = 6;\n",
    "P = factorial(n)/factorial(n-r)"
   ]
  },
  {
   "cell_type": "markdown",
   "id": "7c0fb3c0-ee4d-441b-b1f2-61bb0ef09f3a",
   "metadata": {},
   "source": [
    "<div class=\"alert alert-block alert-info\">\n",
    "<b>Problem 12</b>\n",
    "&nbsp; \n",
    "<p style=\"font-family: Comic Sans; font-size:11pt\">\n",
    "Gosper’s approximation for factorials is given by:\n",
    "    \n",
    "$$ n! = n^{n}e^{-n}\\sqrt{(2n+\\frac{1}{3})\\pi}$$\n",
    "<p style=\"font-family: Comic Sans; font-size:11pt\">\n",
    "Use the formula for calculating $19!$. Compare the result with the true value\n",
    "obtained with MATLAB’s built-in function factorial by calculating the\n",
    "error ($Error=\\frac{TrueVal-ApproxVal}{TrueVal}$)."
   ]
  },
  {
   "cell_type": "code",
   "execution_count": null,
   "id": "61dc084b-49df-47e9-947a-a357ea73a802",
   "metadata": {},
   "outputs": [],
   "source": [
    "n = 19;\n",
    "nApp = sqrt((2*n + 1/3)*pi)*n^n*exp(-n)\n",
    "nTru = factorial(n)\n",
    "Error = (nTru - nApp)/nTru"
   ]
  },
  {
   "cell_type": "markdown",
   "id": "16a85d16-7b11-4bc7-8911-cb2097328b38",
   "metadata": {},
   "source": [
    "<div class=\"alert alert-block alert-info\">\n",
    "<b>Problem 13</b>\n",
    "&nbsp; \n",
    "<p style=\"font-family: Comic Sans; font-size:11pt\">\n",
    "According to Newton’s law of universal gravitation the attraction force\n",
    "between two bodies is given by:\n",
    "    \n",
    "$$ F = G \\frac{m_{1}m_{2}}{r^{2}}$$\n",
    "<p style=\"font-family: Comic Sans; font-size:11pt\">\n",
    "where $m_{1}$ and $m_{2}$ are the masses of the bodies, $r$ is the distance between the bodies, and $ G = 6.67\\times10^{-11}\\frac{N-m_{2}}{kg^{2}}$ is the universal gravitational constant. Determine how many times the attraction force between the sun and the earth is larger than the attraction force between the earth and the moon.\n",
    "The distance between the sun and earth is $149.6\\times10^{9} m$, the distance\n",
    "between the moon and earth is $384.4\\times10^{9} m$, $ m_{earth} = 5.98\\times10^{28} kg$,$ m_{sun} = 2.0\\times10^{30}kg$ and $ m_{moon} = 7.36\\times10^{22}kg$"
   ]
  },
  {
   "cell_type": "code",
   "execution_count": null,
   "id": "00d4cb3f-50b3-424d-8cb2-86e73a24a375",
   "metadata": {},
   "outputs": [],
   "source": [
    "G = 6.67E-11; dS_E = 149.6E9; dM_E = 384.4E6;\n",
    "mE = 5.98E28; mS = 2E30; mM = 7.36E22;\n",
    "FSE = G * mS * mE/ dS_E^2;\n",
    "FME = G * mM * mE/ dM_E^2;\n",
    "Ratio = round(FSE/FME)"
   ]
  },
  {
   "cell_type": "markdown",
   "id": "7c835932-4030-46d2-a05b-bf8d7b16de2f",
   "metadata": {},
   "source": [
    "<div class=\"alert alert-success\" role=\"alert\">\n",
    "  <h4 class=\"alert-heading\">Well done!</h4>\n",
    "    \n"
   ]
  },
  {
   "cell_type": "markdown",
   "id": "e5e56f86-2283-400f-84f2-10c4b45e442b",
   "metadata": {},
   "source": [
    "[<img src=\"https://img.shields.io/badge/linkedin-%230077B5.svg?&style=for-the-badge&logo=linkedin&logoColor=white\" />](https://www.linkedin.com/in/koroshkorosh1/)\n",
    "[<img src=\"https://img.shields.io/badge/Telegram-2CA5E0?style=for-the-badge&logo=telegram&logoColor=white\" />](https://t.me/koroshkorosh1/) \n",
    "[<img src =\"https://img.shields.io/badge/website-2CA5E0.svg?&style=for-the-badge&logo=&logoColor=white%90\">](http://kut.st/PersonalWebsite/)\n",
    "[<img src = \"https://img.shields.io/badge/instagram-%23E4405F.svg?&style=for-the-badge&logo=instagram&logoColor=white\">](https://www.instagram.com/koroshkorosh1/)"
   ]
  }
 ],
 "metadata": {
  "kernelspec": {
   "display_name": "Python 3 (ipykernel)",
   "language": "python",
   "name": "python3"
  },
  "language_info": {
   "codemirror_mode": {
    "name": "ipython",
    "version": 3
   },
   "file_extension": ".py",
   "mimetype": "text/x-python",
   "name": "python",
   "nbconvert_exporter": "python",
   "pygments_lexer": "ipython3",
   "version": "3.8.12"
  }
 },
 "nbformat": 4,
 "nbformat_minor": 5
}
