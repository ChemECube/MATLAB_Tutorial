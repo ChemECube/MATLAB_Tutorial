{
 "cells": [
  {
   "cell_type": "markdown",
   "id": "8548cfd2-6587-44cb-bab5-0c8e9aa31092",
   "metadata": {},
   "source": [
    "# Session 02"
   ]
  },
  {
   "cell_type": "markdown",
   "id": "29adca17-86af-44bf-b201-72312db42585",
   "metadata": {},
   "source": [
    "<img src=\"https://s23.picofile.com/file/8449677568/MatLab.png\" alt=\"fishy\" class=\"bg-primary\" width=\"200px\" align=\"center\">"
   ]
  },
  {
   "cell_type": "markdown",
   "id": "5a354727-2642-42af-a5f3-7776dd18fcd1",
   "metadata": {},
   "source": [
    "<div class=\"alert alert-block alert-info\">\n",
    "<b>Problem 01</b>\n",
    "<p style=\"font-family: Comic Sans; font-size:11pt\"> \n",
    "Simplify this statement:\n",
    "\n",
    "   ``` go\n",
    "        if number > 100\n",
    "           number = 100;\n",
    "        else\n",
    "           number = number;\n",
    "        end\n",
    "   ```"
   ]
  },
  {
   "cell_type": "code",
   "execution_count": null,
   "id": "d2c69a73-e232-4334-bbf9-27f914b7adfb",
   "metadata": {},
   "outputs": [],
   "source": [
    "if number > 100\n",
    "   number = 100;\n",
    "end"
   ]
  },
  {
   "cell_type": "markdown",
   "id": "adb86563-24d1-4883-93ae-bb6ea1e5f4e8",
   "metadata": {},
   "source": [
    "<div class=\"alert alert-block alert-info\">\n",
    "<b>Problem 02</b>\n",
    "<p style=\"font-family: Comic Sans; font-size:11pt\"> \n",
    "Simplify this statement:\n",
    "\n",
    "   ``` go\n",
    "          if val >= 10\n",
    "               disp('Hello')\n",
    "         elseif val < 10\n",
    "              disp('Hi')\n",
    "         end\n",
    "   ```"
   ]
  },
  {
   "cell_type": "code",
   "execution_count": null,
   "id": "8e2e9724-ab91-454b-88b9-ce5f5dd5a699",
   "metadata": {},
   "outputs": [],
   "source": [
    "if val >= 10\n",
    "      disp('Hello')\n",
    "else\n",
    "      disp('Hi')\n",
    "end"
   ]
  },
  {
   "cell_type": "markdown",
   "id": "60aa5264-2338-49ca-9d34-2ffb24b412ac",
   "metadata": {},
   "source": [
    "<div class=\"alert alert-block alert-info\">\n",
    "<b>Problem 03</b>\n",
    "<p style=\"font-family: Comic Sans; font-size:11pt\"> \n",
    "In chemistry, the $pH$ of an aqueous solution is a measure of its\n",
    "acidity. The $pH$ scale ranges from $0$ to $14$, inclusive. A solution with a $pH$ of $7$ is said to be neutral, a solution with a $pH$ greater than $7$ is basic, and a solution with a pH less than $7$ is acidic. Write a script that will prompt the user for the $pH$ of a solution, and will print whether it is neutral, basic, or acidic. If the user enters an invalid $pH$, an error\n",
    "message will be printed.\n"
   ]
  },
  {
   "cell_type": "code",
   "execution_count": null,
   "id": "8e65eb39-fbf2-46de-9551-2c21877fa4a7",
   "metadata": {},
   "outputs": [],
   "source": [
    "% Prompts the user for the pH of a solution and prints\n",
    "% whether it is basic, acidic, or neutral\n",
    "ph = input('Enter the pH of the solution: ');\n",
    "if ph >=0 && ph <= 14\n",
    "    if ph < 7\n",
    "             disp('It is acidic')\n",
    "      elseif ph == 7\n",
    "          disp('It is neutral')\n",
    "      elseif ph > 7\n",
    "          disp('It is basic')\n",
    "    end\n",
    "else\n",
    "    disp('Error in pH!')\n",
    "end"
   ]
  },
  {
   "cell_type": "markdown",
   "id": "bd24b3ae-5ecc-4a2b-9527-cbddba14d24f",
   "metadata": {},
   "source": [
    "<div class=\"alert alert-block alert-info\">\n",
    "<b>Problem 04</b>\n",
    "<p style=\"font-family: Comic Sans; font-size:11pt\"> \n",
    "In aerodynamics, the Mach number is a critical quantity. It is\n",
    "defined as the ratio of the speed of an object to the speed of sound. If the Mach number is less than 1, the flow is subsonic; if the Mach number is equal to 1, the flow is transonic; if the Mach number is greater than 1, the flow is supersonic. Write a script that will prompt the user for the speed of an aircraft and the speed of sound at the aircraft’s current altitude and will print whether the condition is subsonic, transonic, or supersonic."
   ]
  },
  {
   "cell_type": "code",
   "execution_count": null,
   "id": "958557f9-38b4-487a-be21-ed50f48235c8",
   "metadata": {},
   "outputs": [],
   "source": [
    "% Prints whether the speed of an object is subsonic,\n",
    "% transonic, or supersonic based on the Mach number\n",
    "plane_speed = input('Enter the speed of the aircraft: ');\n",
    "sound_speed = input('Enter the speed of sound: ');\n",
    "mach = plane_speed/sound_speed;\n",
    "if mach < 1\n",
    "        disp('Subsonic')\n",
    "     elseif mach == 1\n",
    "        disp('Transonic')\n",
    "    else\n",
    "       disp('Supersonic')\n",
    "end"
   ]
  },
  {
   "cell_type": "markdown",
   "id": "c1f97b93-20b7-4207-90d4-bfedbf4561e0",
   "metadata": {},
   "source": [
    "<div class=\"alert alert-block alert-info\">\n",
    "<b>Problem 05</b>\n",
    "<p style=\"font-family: Comic Sans; font-size:11pt\"> \n",
    "Rewrite the following nested if-else statement as a switch\n",
    "statement that accomplishes exactly the same thing. Assume that\n",
    "num is an integer variable that has been initialized, and that there are\n",
    "functions f1, f2, f3, and f4. Do not use any if or if-else statements in\n",
    "the actions in the switch statement, only calls to the four functions.\n",
    "    \n",
    "\n",
    "    \n",
    "   ``` go\n",
    "          if num < -2 || num > 4\n",
    "                f1(num)\n",
    "           else\n",
    "               if num <= 2\n",
    "                     if num >= 0\n",
    "                          f2(num)\n",
    "                     else\n",
    "                         f3(num)\n",
    "                     end\n",
    "               else\n",
    "                     f4(num)\n",
    "               end\n",
    "         end\n",
    "   ```"
   ]
  },
  {
   "cell_type": "code",
   "execution_count": null,
   "id": "0d9f2fca-e7b1-4bd5-ba1c-d4be9c48fc05",
   "metadata": {},
   "outputs": [],
   "source": [
    "switch num\n",
    "    case {-2, -1}\n",
    "          f3(num)\n",
    "    case {0, 1, 2}\n",
    "          f2(num)\n",
    "    case {3, 4}\n",
    "          f4(num)\n",
    "    otherwise\n",
    "          f1(num)\n",
    "end"
   ]
  },
  {
   "cell_type": "markdown",
   "id": "389a1408-08dc-4a09-a2dc-d04d9bdd14bc",
   "metadata": {},
   "source": [
    "<div class=\"alert alert-block alert-info\">\n",
    "<b>Problem 06</b>\n",
    "<p style=\"font-family: Comic Sans; font-size:11pt\"> \n",
    "Write a script that will print the following multiplication table:\n",
    "    \n",
    "1 \\\n",
    "2 &emsp; 4 \\\n",
    "3  &emsp; 6&emsp;  9 \\\n",
    "4 &emsp; 8  &emsp;12 &emsp; 16 \\\n",
    "5  &emsp;10&emsp; 15&emsp;  20&emsp; 25"
   ]
  },
  {
   "cell_type": "code",
   "execution_count": null,
   "id": "e1747f32-a721-478a-a86d-4b34efdfad15",
   "metadata": {},
   "outputs": [],
   "source": [
    "rows = 5;\n",
    "for i = 1:rows\n",
    "   for j = 1:i\n",
    "       fprintf('%d ', i*j)\n",
    "    end\n",
    "    fprintf('\\n')\n",
    "end"
   ]
  },
  {
   "cell_type": "code",
   "execution_count": null,
   "id": "e3c2c1f3-c956-4864-bfb5-625ad3e3a3ee",
   "metadata": {},
   "outputs": [],
   "source": []
  },
  {
   "cell_type": "code",
   "execution_count": null,
   "id": "cfc8e69b-0643-4560-bc5f-e734870e5949",
   "metadata": {},
   "outputs": [],
   "source": []
  },
  {
   "cell_type": "code",
   "execution_count": null,
   "id": "e7ae73b9-3fa0-485a-a22d-77f6fa108855",
   "metadata": {},
   "outputs": [],
   "source": []
  },
  {
   "cell_type": "code",
   "execution_count": null,
   "id": "c766f715-dd9b-4d01-acda-26470a020a7f",
   "metadata": {},
   "outputs": [],
   "source": []
  }
 ],
 "metadata": {
  "kernelspec": {
   "display_name": "Python 3 (ipykernel)",
   "language": "python",
   "name": "python3"
  },
  "language_info": {
   "codemirror_mode": {
    "name": "ipython",
    "version": 3
   },
   "file_extension": ".py",
   "mimetype": "text/x-python",
   "name": "python",
   "nbconvert_exporter": "python",
   "pygments_lexer": "ipython3",
   "version": "3.8.12"
  }
 },
 "nbformat": 4,
 "nbformat_minor": 5
}
