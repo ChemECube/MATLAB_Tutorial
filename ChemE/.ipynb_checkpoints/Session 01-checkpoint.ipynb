{
 "cells": [
  {
   "cell_type": "markdown",
   "id": "24122191-27ae-419c-8552-78c821d30371",
   "metadata": {},
   "source": [
    "# Session 01"
   ]
  },
  {
   "cell_type": "markdown",
   "id": "a292c2e5-89f5-4996-a646-aa2ba5ecfa4d",
   "metadata": {},
   "source": [
    "<img src=\"https://s23.picofile.com/file/8449677568/MatLab.png\" alt=\"fishy\" class=\"bg-primary\" width=\"200px\" align=\"center\">"
   ]
  },
  {
   "cell_type": "markdown",
   "id": "5d3cff38-cf17-40b8-9ab9-18ae1aae46cb",
   "metadata": {},
   "source": [
    "<div class=\"alert alert-block alert-info\">\n",
    "<b>Problem 01</b>\n",
    "<p style=\"font-family: Comic Sans; font-size:11pt\"> \n",
    "Create a variable g that is a row vector in which the first element is $3$ and the\n",
    "last element is $27$, with an increment of 4 between the elements $(3, 7, 11, ... ,\n",
    "27)$."
   ]
  },
  {
   "cell_type": "code",
   "execution_count": null,
   "id": "8065dcb0-da90-41a4-b2a3-6506e9de664e",
   "metadata": {},
   "outputs": [],
   "source": [
    "\n"
   ]
  },
  {
   "cell_type": "markdown",
   "id": "1ad1448c-d1d9-4f81-8f25-2cc360e255b7",
   "metadata": {},
   "source": [
    "<div class=\"alert alert-block alert-info\">\n",
    "<b>Problem 02</b>\n",
    "<p style=\"font-family: Comic Sans; font-size:11pt\"> \n",
    "Create a variable M that is a column vector in which the first element is $6.4$,\n",
    "the elements increase with increments of $0.8$, and the last element is $12$. (A\n",
    "column vector can be created by the transpose of a row vector.)"
   ]
  },
  {
   "cell_type": "code",
   "execution_count": null,
   "id": "eff67ee8-a04b-42dc-911e-bb5782a98c0e",
   "metadata": {},
   "outputs": [],
   "source": [
    "\n"
   ]
  },
  {
   "cell_type": "markdown",
   "id": "76c93a49-7933-44e8-b766-b49da86b6934",
   "metadata": {},
   "source": [
    "<div class=\"alert alert-block alert-info\">\n",
    "<b>Problem 03</b>\n",
    "<p style=\"font-family: Comic Sans; font-size:11pt\"> \n",
    "Create a variable $N$ that is a column vector with seven equally spaced ele-\n",
    "ments in which the first element is $44$ and the last element is $23$. (A column vector can be created by the transpose of a row vector.)"
   ]
  },
  {
   "cell_type": "code",
   "execution_count": null,
   "id": "02647941-657c-4aee-b98f-951500b9a256",
   "metadata": {},
   "outputs": [],
   "source": [
    "\n"
   ]
  },
  {
   "cell_type": "markdown",
   "id": "e4779d87-33b4-49d2-9bc1-cbd9ff796b6f",
   "metadata": {},
   "source": [
    "<div class=\"alert alert-block alert-info\">\n",
    "<b>Problem 04</b>\n",
    "<p style=\"font-family: Comic Sans; font-size:11pt\"> \n",
    "Create the following matrix by assigning vectors with constant spacing to the rows (use the $linspace$ command for the third row). Do not type indi-\n",
    "vidual elements explicitly.\n",
    "    \n",
    "$$ A = \\begin{bmatrix} 1 & 2 & 3 & 4 & 5 & 6 & 7 \\\\ 7 & 6 & 5 & 4 & 3 & 2 & 1 \\\\ 2 & 3.1667 & 4.3333 & 5.5 & 6.6667 & 7.8333 & 9 \\\\ \\end{bmatrix}$$"
   ]
  },
  {
   "cell_type": "code",
   "execution_count": null,
   "id": "d0e960e5-b7b2-4c92-b809-e820674d31c9",
   "metadata": {},
   "outputs": [],
   "source": [
    "\n"
   ]
  },
  {
   "cell_type": "markdown",
   "id": "5fcd59e0-cf31-4f19-ba07-c53eabb508e6",
   "metadata": {},
   "source": [
    "<div class=\"alert alert-block alert-info\">\n",
    "<b>Problem 05</b>\n",
    "<p style=\"font-family: Comic Sans; font-size:11pt\">\n",
    "Create the following vector by using the linspace command. Do not type\n",
    "individual elements explicitly.\n",
    "    \n",
    "$$ B = \\begin{bmatrix} 4 & 4 & 4 & 4 & 4 & 5 & 5 & 5 & 5 \\\\ \\end{bmatrix}$$"
   ]
  },
  {
   "cell_type": "code",
   "execution_count": null,
   "id": "c00f1c3d-2db2-4b2c-ad7a-211e0f3ff342",
   "metadata": {},
   "outputs": [],
   "source": [
    "\n"
   ]
  },
  {
   "cell_type": "markdown",
   "id": "8c7e514f-a071-4162-850e-e3d2614b8f2f",
   "metadata": {},
   "source": [
    "<div class=\"alert alert-block alert-info\">\n",
    "<b>Problem 06</b>\n",
    "<p style=\"font-family: Comic Sans; font-size:11pt\">\n",
    "    Create the following matrix by typing one command. Do not type individ-\n",
    "ual elements explicitly.\n",
    "    $$ B = \\begin{bmatrix} 6 & 8 \\\\  6 & 8  \\\\ 6 & 8 \\\\ 6 & 8 \\\\ 6 & 8 \\end{bmatrix}$$"
   ]
  },
  {
   "cell_type": "code",
   "execution_count": null,
   "id": "8e3212b6-10eb-44d5-a124-886667fd274e",
   "metadata": {},
   "outputs": [],
   "source": [
    "\n"
   ]
  },
  {
   "cell_type": "markdown",
   "id": "e2367c7f-c317-4f97-933e-91dd2eb94203",
   "metadata": {},
   "source": [
    "<div class=\"alert alert-block alert-info\">\n",
    "<b>Problem 06</b>\n",
    "<p style=\"font-family: Comic Sans; font-size:11pt\">\n",
    " Create the following matrix by typing one command. Do not type individ-\n",
    "ual elements explicitly.\n",
    "    \n",
    "   $$ B = \\begin{bmatrix} 1 & 1 & 1 & 1 \\\\ 1 & 1 & 1 & 1 \\\\ 1 & 1 & 1 & 1 \\\\ 8 & 6 & 4 & 2 \\\\ \\end{bmatrix}$$ \n",
    "    "
   ]
  },
  {
   "cell_type": "markdown",
   "id": "55bfe941-5667-4cf9-a07d-9902e10898f9",
   "metadata": {},
   "source": [
    "<div class=\"alert alert-block alert-info\">\n",
    "<b>Problem 07</b>\n",
    "<p style=\"font-family: Comic Sans; font-size:11pt\">\n",
    "Create the following matrix by typing one command. Do not type individ-\n",
    "ual elements explicitly.\n",
    "    \n",
    "$$ G = \\begin{bmatrix} 1 & 1 & 1 & 1 & 1 \\\\ 1 & 1 & 1 & 1 & 1 \\\\ 1 & 1 & 1 & 1 & 1 \\\\ 0 & 0 & 0 & 1 & 1 \\\\ 0 & 0 & 0 & 1 & 1 \\\\ 0 & 0 & 0 & 1 & 1 \\end{bmatrix}$$ "
   ]
  },
  {
   "cell_type": "markdown",
   "id": "1340c522-0308-4e5f-a472-70f2e6d39fcc",
   "metadata": {},
   "source": [
    "<div class=\"alert alert-block alert-info\">\n",
    "<b>Problem 08</b>\n",
    "<p style=\"font-family: Comic Sans; font-size:11pt\">\n",
    "Create the following three row vectors:\n",
    "$$ a = \\begin{bmatrix}   5 & 8 & -1 & 0 & 2  \\end{bmatrix}$$\n",
    "    &nbsp;\n",
    "$$ b = \\begin{bmatrix}   4 & 1 & 9 & -2 & 3  \\end{bmatrix}$$\n",
    "    &nbsp;\n",
    "$$ c = \\begin{bmatrix}   -3 & 5 & 0 & 6 & 1  \\end{bmatrix}$$    \n",
    "    \n",
    "<p style=\"font-family: Comic Sans; font-size:11pt\">    \n",
    "(a) Use the three vectors in a MATLAB command to create a $ 3\\times5 $ matrix in which the rows are the vectors $c, b$, and $a$, respectively.\n",
    "    \n",
    "<p style=\"font-family: Comic Sans; font-size:11pt\">    \n",
    "(b) Use the three vectors in a MATLAB command to create a $ 3\\times5 $ matrix\n",
    "in which the columns are the vectors $c, b$, and $a$, respectively."
   ]
  },
  {
   "cell_type": "markdown",
   "id": "10a95dec-e7fc-491f-a33b-852b622cb110",
   "metadata": {},
   "source": [
    "<div class=\"alert alert-block alert-info\">\n",
    "<b>Problem 09</b>\n",
    "<p style=\"font-family: Comic Sans; font-size:11pt\">\n",
    "Create the following two row vectors:\n",
    "$$ d = \\begin{bmatrix}   6 & -1 & 4 & 0 & -2 & 5 \\end{bmatrix}$$\n",
    "    &nbsp;\n",
    "$$ e = \\begin{bmatrix}   7 & 5 & 9 & 0 & 1 & 3 \\end{bmatrix}$$\n",
    "    &nbsp;\n",
    "    \n",
    "<p style=\"font-family: Comic Sans; font-size:11pt\">    \n",
    "(a) Use the two vectors in a MATLAB command to create a $ 3\\times3 $ matrix\n",
    "such that the first row consists of elements 2 through 4 of vector d, the\n",
    "second row consists of elements 3 through 5 of vector e, and the third\n",
    "row consists of elements 4 through 6 of vector d.\n",
    "    \n",
    "<p style=\"font-family: Comic Sans; font-size:11pt\">    \n",
    "(b) Use the two vectors in a MATLAB command to create a $ 4\\times2 $ matrix such that the first column consists of elements 2 through 5 of vector d,\n",
    "and the second column consists of elements 3 through 6 of vector e."
   ]
  },
  {
   "cell_type": "markdown",
   "id": "1b3ed428-2341-457e-bf9e-0ca59c36d9e1",
   "metadata": {},
   "source": [
    "<div class=\"alert alert-block alert-info\">\n",
    "<b>Problem 10</b>\n",
    "<p style=\"font-family: Comic Sans; font-size:11pt\">\n",
    "Create the following matrix M.\n",
    "$$ M = \\begin{bmatrix}   1 & 7 & 13 & 19 & 25 \\\\ 3 & 9 & 15 & 21 & 27 \\\\ 5 & 11 & 17 & 23 & 29  \\end{bmatrix}$$\n",
    "    &nbsp;\n",
    "    \n",
    "<p style=\"font-family: Comic Sans; font-size:11pt\">    \n",
    "By writing one command and using the colon to address range of elements\n",
    "(do not type individual elements explicitly), use the matrix $M$ to:\n",
    "\n",
    " <p style=\"font-family: Comic Sans; font-size:11pt\">    \n",
    "(a) Create a five-element row vector named $Va$ that contains the elements\n",
    "of the third row of $M$.\n",
    "    \n",
    "<p style=\"font-family: Comic Sans; font-size:11pt\">    \n",
    "(b) Create a three-element column vector named $Vb$ that contains the ele-\n",
    "ments of the fourth column of$ M$.\n",
    "        \n",
    "<p style=\"font-family: Comic Sans; font-size:11pt\">    \n",
    "(c) Create an eight-element row vector named $Vc$ that contains the ele-\n",
    "ments of the second row of $M$ followed by the elements of the third col-\n",
    "umn of $M$.\n"
   ]
  },
  {
   "cell_type": "markdown",
   "id": "3521807e-3dbd-463b-a7db-3ddaabd64e7a",
   "metadata": {},
   "source": [
    "<div class=\"alert alert-block alert-info\">\n",
    "<b>Problem 11</b>\n",
    "<p style=\"font-family: Comic Sans; font-size:11pt\">\n",
    "Create the following matrix M.\n",
    "$$ M = \\begin{bmatrix}   0 & 3 & 6 & 9 & 12 & 15 \\\\ 18 & 21 & 24 & 27 & 30 & 33 \\\\  36 & 39 & 42 & 45 & 48 & 51  \\end{bmatrix}$$\n",
    "    &nbsp;\n",
    "    \n",
    "<p style=\"font-family: Comic Sans; font-size:11pt\">    \n",
    "(It can be done by typing: $N=reshape(0:3:51,6,3)$.)\n",
    "By writing one command and using the colon to address range of elements(do not type individual elements explicitly), use the matrix $N$ to:\n",
    "\n",
    "<p style=\"font-family: Comic Sans; font-size:11pt\">    \n",
    "(a) Create a six-element row vector named Ua that contains the first three elements of the first row of $N$ followed by the last three elements of the\n",
    "third row of $N$.\n",
    "    \n",
    "<p style=\"font-family: Comic Sans; font-size:11pt\">    \n",
    "(b) Create a nine-element column vector named Ub that contains the elements of the first column of $N$, followed by the elements of the third column of $N$, followed by the elements of the sixth column of $N$.\n",
    "        \n",
    "<p style=\"font-family: Comic Sans; font-size:11pt\">    \n",
    "(c) Create a six-element column vector named Uc that contains elements $2, 3, 4$, and $5$ of the second row of $N$, followed by elements $2$ and $3$ of the fifth column of $N$.\n"
   ]
  },
  {
   "cell_type": "markdown",
   "id": "0d134661-ecf5-4b3c-8ea9-1e3498275b72",
   "metadata": {},
   "source": [
    "<div class=\"alert alert-block alert-info\">\n",
    "<b>Problem 12</b>\n",
    "<p style=\"font-family: Comic Sans; font-size:11pt\">\n",
    "Create the following matrix G:\n",
    "$$ G = \\begin{bmatrix}   0.1 & 0.2 & 0.3 & 0.4 & 0.5 & 0.6 & 0.7 \\\\  10 & 9 & 8 & 7 & 6 & 5 & 4 \\\\  0 & 0.2 & 0.4 & 0.6 & 0.8 & 1.0 & 1.2 \\\\  5 & 3 & 1 & -1 & -3 & -5 & -7   \\end{bmatrix}$$\n",
    "    &nbsp;\n",
    "    \n",
    "<p style=\"font-family: Comic Sans; font-size:11pt\">    \n",
    "(a) Create a $ 3\\times4 $ matrix Ma from the first, third and fourth rows, and the\n",
    "first two and last two columns of matrix G.\n",
    "\n",
    "<p style=\"font-family: Comic Sans; font-size:11pt\">    \n",
    "(b) Create a $ 3\\times3 $ matrix Mb from the first three rows and the second,\n",
    "fourth, and sixth columns of matrix G.\n"
   ]
  },
  {
   "cell_type": "markdown",
   "id": "3f6ead03-56e3-4d94-aff0-02f22e99e092",
   "metadata": {},
   "source": [
    "<div class=\"alert alert-block alert-info\">\n",
    "<b>Problem 12</b>\n",
    "<p style=\"font-family: Comic Sans; font-size:11pt\">\n",
    "Create the following matrix K:\n",
    "$$ K = \\begin{bmatrix}   0.25 & 0.5 & 0.75 & 1.0 & 1.25 & 1.5 & 1.75\n",
    "\\\\  10 & 9 & 8 & 7 & 6 & 5 & 4 \n",
    "\\\\  2 & 4 & 6 & 8 & 10 & 12 & 14 \n",
    "\\\\  25 & 30 & 35 & 40 & 15 & 50 & 55   \\end{bmatrix}$$\n",
    "    &nbsp;\n",
    "\n",
    "\n",
    "<p style=\"font-family: Comic Sans; font-size:11pt\">    \n",
    "(a) Create a  $ 3\\times6 $ matrix $Ga$ such that its first row includes the elements of the second column of  $K $ followed by the elements of the fifth column of\n",
    " $K$, the second row of Ga include the first six elements of the second row\n",
    "of  $K $, and the third row of  $Ga $ includes the last six elements of the third\n",
    "row of  $K $.\n",
    "\n",
    "<p style=\"font-family: Comic Sans; font-size:11pt\">    \n",
    "(b) Create a  $ 2\\times4 $ matrix $Gb$ the first two rows and columns $3$ through $6$ of\n",
    "$K$.\n"
   ]
  },
  {
   "cell_type": "markdown",
   "id": "a8e3ef7a-fc9c-45db-86bb-15d4400f7f88",
   "metadata": {},
   "source": [
    "<div class=\"alert alert-block alert-info\">\n",
    "<b>Problem 12</b>\n",
    "<p style=\"font-family: Comic Sans; font-size:11pt\">\n",
    "Using the zeros, ones, and eye commands, create the following arrays by\n",
    "typing one command:\n",
    "    \n",
    "$$ a = \\begin{bmatrix}   \n",
    "1 & 0 & 0 & 1 & 0 & 0 \n",
    "\\\\  0 & 1 & 0 & 0 & 1 & 0\n",
    "\\\\  0 & 0 & 1 & 0 & 0 & 1  \\end{bmatrix}$$\n",
    "    &nbsp;\n",
    "    \n",
    "$$ a = \\begin{bmatrix}   \n",
    "0 & 0 & 0 & 1 & 1 \n",
    "\\\\  0 & 0 & 0 & 1 & 1 \n",
    "\\\\  0 & 0 & 0 & 1 & 1  \\end{bmatrix}$$\n",
    "    &nbsp;\n",
    "\n",
    "<p style=\"font-family: Comic Sans; font-size:11pt\">    \n",
    "(a) Create a  $ 3\\times6 $ matrix Ga such that its first row includes the elements of the second column of  $K $ followed by the elements of the fifth column of\n",
    " $K$, the second row of Ga include the first six elements of the second row\n",
    "of  $K $, and the third row of  $Ga $ includes the last six elements of the third\n",
    "row of  $K $.\n",
    "\n",
    "<p style=\"font-family: Comic Sans; font-size:11pt\">    \n",
    "(b) Create a  $ 2\\times4 $ matrix $Gb$ the first two rows and columns $3$ through $6$ of\n",
    "$K$."
   ]
  },
  {
   "cell_type": "markdown",
   "id": "1af9a7c1-4d2d-4541-b90e-a4d91ab1db1d",
   "metadata": {},
   "source": []
  },
  {
   "cell_type": "raw",
   "id": "e3665e29-5815-43a8-a7e3-d73b0827cc64",
   "metadata": {},
   "source": []
  },
  {
   "cell_type": "markdown",
   "id": "9db6509e-9fef-4fd4-86e0-7fecfb552485",
   "metadata": {},
   "source": []
  },
  {
   "cell_type": "markdown",
   "id": "2cc3b4d5-46d3-4c0e-995a-95a70434c2d2",
   "metadata": {},
   "source": []
  },
  {
   "cell_type": "markdown",
   "id": "55ed1db7-ea4a-480b-9a4a-21fc58200bc3",
   "metadata": {},
   "source": []
  },
  {
   "cell_type": "markdown",
   "id": "74742b44-16d7-44b6-add2-3856285d41ce",
   "metadata": {},
   "source": []
  },
  {
   "cell_type": "markdown",
   "id": "bb9393df-4f5e-4421-94de-f94f2e2c7316",
   "metadata": {},
   "source": []
  }
 ],
 "metadata": {
  "kernelspec": {
   "display_name": "Python 3 (ipykernel)",
   "language": "python",
   "name": "python3"
  },
  "language_info": {
   "codemirror_mode": {
    "name": "ipython",
    "version": 3
   },
   "file_extension": ".py",
   "mimetype": "text/x-python",
   "name": "python",
   "nbconvert_exporter": "python",
   "pygments_lexer": "ipython3",
   "version": "3.8.12"
  }
 },
 "nbformat": 4,
 "nbformat_minor": 5
}
