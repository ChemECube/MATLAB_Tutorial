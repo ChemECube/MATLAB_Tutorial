{
 "cells": [
  {
   "cell_type": "markdown",
   "id": "cbda5cc7-492a-4b24-948e-aa4dca52196e",
   "metadata": {},
   "source": [
    "<p  style=\"font-family:cursive; font-size:21pt\"\"> <img src=\"https://s22.picofile.com/file/8449797050/MATLAB.png\" width=\"23\"/> Introduction to MATLAB (ANS)"
   ]
  },
  {
   "cell_type": "markdown",
   "id": "11c35350-c02f-4057-95b4-58f938c02180",
   "metadata": {},
   "source": [
    "<div class=\"alert alert-block alert-danger\">\n",
    "<b>Exercises 01</b>\n"
   ]
  },
  {
   "cell_type": "code",
   "execution_count": null,
   "id": "a5c157cc-4ea2-41da-affd-2d3838e1c44a",
   "metadata": {},
   "outputs": [],
   "source": [
    "# Part (A):\n",
    "# Part (B):\n",
    "# Part (C):\n",
    "# Part (D):\n",
    "# Part (E):\n",
    "# Part (F):\n",
    "# Part (G):\n",
    "# Part (H):"
   ]
  },
  {
   "cell_type": "markdown",
   "id": "a114b1bb-9a6c-48dd-8ded-0eb48adbbed2",
   "metadata": {},
   "source": [
    "<div class=\"alert alert-block alert-danger\">\n",
    "<b>Exercises 02</b>"
   ]
  },
  {
   "cell_type": "code",
   "execution_count": null,
   "id": "738355e9-6859-4548-81b2-d70f92b82398",
   "metadata": {},
   "outputs": [],
   "source": [
    "# Part (A):\n",
    "# Part (B):\n",
    "# Part (C):\n",
    "# Part (D):\n",
    "# Part (E):\n",
    "# Part (F):"
   ]
  },
  {
   "cell_type": "markdown",
   "id": "079bdf54-0bff-4b3b-97d2-bf862ea2974f",
   "metadata": {},
   "source": [
    "<div class=\"alert alert-block alert-danger\">\n",
    "<b>Exercises 03</b>"
   ]
  },
  {
   "cell_type": "code",
   "execution_count": null,
   "id": "9eecb532-7b12-40fc-bf0c-d2c9053f574d",
   "metadata": {},
   "outputs": [],
   "source": [
    "alpha = pi/8; beta = pi/6;\n",
    "Left = tan(alpha + beta)\n",
    "Right = (tan(alpha) + tan(beta))/(1 - tan(alpha)*tan(beta))"
   ]
  },
  {
   "cell_type": "markdown",
   "id": "ba8eb79c-dbd1-4fae-8d66-746d8071e79a",
   "metadata": {},
   "source": [
    "<div class=\"alert alert-block alert-danger\">\n",
    "<b>Exercises 04</b>"
   ]
  },
  {
   "cell_type": "code",
   "execution_count": null,
   "id": "73c89d18-a66c-4072-ab4d-97815a1cd1e4",
   "metadata": {},
   "outputs": [],
   "source": [
    "xa = pi/6; xb = pi/3;\n",
    "Ia = 2*xa*cos(xa) + (xa^2-2)*sin(xa)\n",
    "Ib = 2*xb*cos(xb) + (xb^2-2)*sin(xb)\n",
    "I = Ib - Ia"
   ]
  },
  {
   "cell_type": "markdown",
   "id": "a591e40b-0d26-417e-9b9a-c2fe67a46af7",
   "metadata": {},
   "source": [
    "<div class=\"alert alert-block alert-danger\">\n",
    "<b>Exercises 05</b>"
   ]
  },
  {
   "cell_type": "code",
   "execution_count": null,
   "id": "48bd0813-79f9-42bc-8bd7-dddbb6c699ef",
   "metadata": {},
   "outputs": [],
   "source": [
    "a = 8; h = 13;\n",
    "L = sqrt(a^2 + 4*h^2) + a^2*log(2*h/a + sqrt((2*h/a)^2 + 1))/(2*h)"
   ]
  },
  {
   "cell_type": "markdown",
   "id": "ff4ae902-0b51-4600-a849-48999ae10c5d",
   "metadata": {},
   "source": [
    "<div class=\"alert alert-block alert-danger\">\n",
    "<b>Exercises 06</b>"
   ]
  },
  {
   "cell_type": "code",
   "execution_count": null,
   "id": "42cab8a5-da44-4844-862c-70b5536aec28",
   "metadata": {},
   "outputs": [],
   "source": [
    "ri = 1.25/2; ro = 2.25/2; h = 2;\n",
    "Vcon = pi*h/3*(ri^2 + ri*ro + ro^2);\n",
    "Vtop = 2*pi*ro^3;\n",
    "V = Vcon + Vtop"
   ]
  },
  {
   "cell_type": "markdown",
   "id": "252f2b8b-3abe-4304-ae7f-b90a5e2790e7",
   "metadata": {},
   "source": [
    "<div class=\"alert alert-block alert-danger\">\n",
    "<b>Exercises 07</b>"
   ]
  },
  {
   "cell_type": "code",
   "execution_count": null,
   "id": "aa5b5d60-7a97-435b-9b41-98afc8f48f58",
   "metadata": {},
   "outputs": [],
   "source": [
    "4217 - fix(4217/36)*36"
   ]
  },
  {
   "cell_type": "markdown",
   "id": "c1286fbb-c67b-4605-801e-bcb82d2bf219",
   "metadata": {},
   "source": [
    "<div class=\"alert alert-block alert-danger\">\n",
    "<b>Exercises 08</b>"
   ]
  },
  {
   "cell_type": "code",
   "execution_count": null,
   "id": "c17b4391-ddbb-495e-80df-f1b7f6188166",
   "metadata": {},
   "outputs": [],
   "source": [
    "nBuses=fix(777/46)\n",
    "nVans=ceil(nPeoLeft/12)\n",
    "nSeatEmp=nVans*12 - nPeoLeft"
   ]
  },
  {
   "cell_type": "markdown",
   "id": "8d8c1c8d-f077-4bbe-80e8-94413160deea",
   "metadata": {},
   "source": [
    "<div class=\"alert alert-block alert-danger\">\n",
    "<b>Exercises 09</b>"
   ]
  },
  {
   "cell_type": "code",
   "execution_count": null,
   "id": "2216d048-7bb7-40ae-bf72-f0c3ff82e5e2",
   "metadata": {},
   "outputs": [],
   "source": [
    "format short\n",
    "V = 15; R1 = 119.8; R2 = 120.5; R3 = 121.2; R4 = 119.3;\n",
    "c = R2/R1; d = R3/R4;\n",
    "Vab = V*(c - d)/((c + 1)*(d + 1))"
   ]
  },
  {
   "cell_type": "markdown",
   "id": "0c77a5c9-e808-40a5-8a1b-60c7617734fd",
   "metadata": {},
   "source": [
    "<div class=\"alert alert-block alert-danger\">\n",
    "<b>Exercises 10</b>"
   ]
  },
  {
   "cell_type": "code",
   "execution_count": null,
   "id": "0be6cdf4-fdd6-424d-adcd-9a9849b56f38",
   "metadata": {},
   "outputs": [],
   "source": [
    "V = 80; R = 6; f = 50; L = 400E-3; C = 40E-6;\n",
    "w = 2*pi*f;\n",
    "I = V/sqrt(R^2 + (w*L - 1/(w*C))^2)"
   ]
  },
  {
   "cell_type": "markdown",
   "id": "117a380a-8ee0-47a1-a474-366c500cef3f",
   "metadata": {},
   "source": [
    "<div class=\"alert alert-block alert-danger\">\n",
    "<b>Exercises 11</b>"
   ]
  },
  {
   "cell_type": "code",
   "execution_count": null,
   "id": "2f3c3125-657d-4c1d-aaaf-595aee548117",
   "metadata": {},
   "outputs": [],
   "source": [
    "# Part (a):\n",
    "n=26; r=6;\n",
    "P=factorial(n)/factorial(n-r)"
   ]
  },
  {
   "cell_type": "code",
   "execution_count": null,
   "id": "f25fb07a-966d-49da-a777-37a01559e5ba",
   "metadata": {},
   "outputs": [],
   "source": [
    "# Part (a):\n",
    "n=26; r=6;\n",
    "P=factorial(n)/factorial(n-r)"
   ]
  },
  {
   "cell_type": "markdown",
   "id": "27ebade0-e895-48bc-a798-9fa6e34497f2",
   "metadata": {},
   "source": [
    "<div class=\"alert alert-block alert-danger\">\n",
    "<b>Exercises 12</b>"
   ]
  },
  {
   "cell_type": "code",
   "execution_count": null,
   "id": "9ff59116-9200-40d4-a5bd-6fab9d9d2cd8",
   "metadata": {},
   "outputs": [],
   "source": [
    "n = 19;\n",
    "nApp = sqrt((2*n + 1/3)*pi)*n^n*exp(-n)\n",
    "nTru = factorial(n)\n",
    "Error = (nTru - nApp)/nTru"
   ]
  },
  {
   "cell_type": "markdown",
   "id": "bd5e0b69-bfbd-4a9c-9d21-de6465be1eb1",
   "metadata": {},
   "source": [
    "<div class=\"alert alert-block alert-danger\">\n",
    "<b>Exercises 13</b>"
   ]
  },
  {
   "cell_type": "code",
   "execution_count": null,
   "id": "86ad9ddb-f211-4354-b884-f1f6687b1d82",
   "metadata": {},
   "outputs": [],
   "source": [
    "G = 6.67E-11; dS_E = 149.6E9; dM_E = 384.4E6;\n",
    "mE = 5.98E28; mS = 2E30; mM = 7.36E22;\n",
    "FSE = G * mS * mE/ dS_E^2;\n",
    "FME = G * mM * mE/ dM_E^2;\n",
    "Ratio = round(FSE/FME)"
   ]
  },
  {
   "cell_type": "markdown",
   "id": "33c565c9-f6bb-4b95-80f9-248c5fa91dc7",
   "metadata": {},
   "source": [
    "<img src=\"https://s23.picofile.com/file/8449797826/celebrate.png\" alt=\"notebook\" width=200 align=\"center\" />"
   ]
  }
 ],
 "metadata": {
  "kernelspec": {
   "display_name": "Python 3 (ipykernel)",
   "language": "python",
   "name": "python3"
  },
  "language_info": {
   "codemirror_mode": {
    "name": "ipython",
    "version": 3
   },
   "file_extension": ".py",
   "mimetype": "text/x-python",
   "name": "python",
   "nbconvert_exporter": "python",
   "pygments_lexer": "ipython3",
   "version": "3.8.12"
  }
 },
 "nbformat": 4,
 "nbformat_minor": 5
}
