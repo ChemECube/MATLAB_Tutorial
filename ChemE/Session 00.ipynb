{
 "cells": [
  {
   "cell_type": "markdown",
   "id": "19cc6ba0-b4d3-48d2-9858-41e8cad6c5be",
   "metadata": {},
   "source": [
    "<div class=\"alert alert-block alert-danger\">\n",
    "<b>Session 00</b> \n",
    "</div>"
   ]
  },
  {
   "cell_type": "markdown",
   "id": "98fe34d9-584a-4e43-9513-22d848503b64",
   "metadata": {},
   "source": [
    "<div class=\"alert alert-block alert-info\">\n",
    "<b>Problem 01</b>\n",
    "<p style=\"font-family: Comic Sans; font-size:11pt\"> \n",
    "Calculate:\n",
    "$$  A = \\sqrt[3]{8 + \\frac{80}{2.6}} + e^{3.5} $$\n",
    "&nbsp;\n",
    "$$ B = (\\frac{1}{\\sqrt{75}} + \\frac{73}{3.1^{3}})^{1.4} + 5.5(0.41) $$\n",
    "&nbsp;\n",
    "$$ C = (\\frac{23 + \\sqrt[3]{45}}{16*0.7}) + \\log 589006 $$\n",
    "   &nbsp; \n",
    "    $$ E = (\\frac{sin^{2}{37^{\\circ}}}{cos^{2}{20^{\\circ}}}) + tan({64^{\\circ}})cos({15^{\\circ}}) $$\n",
    "</div>"
   ]
  },
  {
   "cell_type": "code",
   "execution_count": null,
   "id": "9c22fe67-6568-4ed2-b70e-00a791b79679",
   "metadata": {},
   "outputs": [],
   "source": []
  },
  {
   "cell_type": "markdown",
   "id": "9e5fbb75-e436-4260-8677-8c6340b5da1f",
   "metadata": {},
   "source": [
    "<div class=\"alert alert-block alert-info\">\n",
    "<b>Problem 02</b>\n",
    "<p style=\"font-family: Comic Sans; font-size:11pt\"> \n",
    "Define two variables: $ alpha = \\frac{\\pi}{8} $, and $beta = \\frac{\\pi}{6}$. Using these variables, show that the following trigonometric identity is correct by calculating the values of the left and right sides of the equation.\n",
    "    \n",
    "$$ tan(\\alpha + \\beta) = \\frac{tan(\\alpha) + tan(\\beta)}{1-tan(\\alpha)tan(\\beta)} $$"
   ]
  },
  {
   "cell_type": "code",
   "execution_count": null,
   "id": "9f5451b2-c18e-45e3-abad-ad4718b72a3f",
   "metadata": {},
   "outputs": [],
   "source": []
  },
  {
   "cell_type": "markdown",
   "id": "f1b3f296-5fe0-43e6-b68a-841032242201",
   "metadata": {},
   "source": [
    "<div class=\"alert alert-block alert-info\">\n",
    "<b>Problem 03</b>\n",
    "<p style=\"font-family: Comic Sans; font-size:11pt\"> \n",
    "Given:     \n",
    "$$ \\int x^{2}cos(x)dx = 2xcos(x)+(x^{2}-2)sin(x).  $$\n",
    "\n",
    "<p style=\"font-family: Comic Sans; font-size:11pt\"> \n",
    "Use MATLAB to calculate the:\n",
    "$$ \\int_{\\frac{\\pi}{3}}^{\\frac{\\pi}{6}} x^{2}cos(x)dx $$\n",
    "    "
   ]
  },
  {
   "cell_type": "code",
   "execution_count": null,
   "id": "11f44f7b-83cf-43e0-8325-16efc49b0080",
   "metadata": {},
   "outputs": [],
   "source": []
  },
  {
   "cell_type": "markdown",
   "id": "26878743-c0f4-4509-b878-f2fae1b859e9",
   "metadata": {},
   "source": [
    "<div class=\"alert alert-block alert-info\">\n",
    "<b>Problem 04</b>\n",
    "<p style=\"font-family: Comic Sans; font-size:11pt\"> \n",
    "The arc length of a segment of a parabola $ABC$ is given by: \n",
    "\n",
    "&nbsp;  \n",
    "<img src=\"https://s23.picofile.com/file/8449677050/01.jpeg\" alt=\"fishy\" class=\"bg-primary\" width=\"210px\">\n",
    "    \n",
    "$$ L_{ABC} = \\sqrt{a^{2} + 4h^{2}} +\\frac{a^{2}}{2h}\\ln({\\frac{2h}{a}+\\sqrt{(\\frac{2h}{a})^{2}+1}}) $$\n",
    "\n",
    "<p style=\"font-family: Comic Sans; font-size:11pt\"> \n",
    "Determine $L_{ABC}$ if $a=8$ in. and $h=13$ in.\n",
    "    "
   ]
  },
  {
   "cell_type": "code",
   "execution_count": null,
   "id": "b733dbc6-48d6-420b-9fd3-4ed1a59e0824",
   "metadata": {},
   "outputs": [],
   "source": []
  },
  {
   "cell_type": "markdown",
   "id": "1ed918fc-9cf3-430c-877a-438b5213baaa",
   "metadata": {},
   "source": [
    "<div class=\"alert alert-block alert-info\">\n",
    "<b>Problem 05</b>\n",
    "&nbsp; \n",
    "<p style=\"font-family: Comic Sans; font-size:11pt\">\n",
    "A frustum of cone is filled with ice cream such that\n",
    "the portion above the cone is a hemisphere. Define\n",
    "the variables $d_{i}=1.25$ in., $d_{0}=2.25$ in., $h=2$ in., and determine the volume of the ice cream.  \n",
    "&nbsp; \n",
    "&nbsp; \n",
    "&nbsp; \n",
    "    \n",
    "<img src=\"https://s22.picofile.com/file/8449677250/02.jpeg\" alt=\"fishy\" class=\"bg-primary\" width=\"210px\">\n",
    "\n"
   ]
  },
  {
   "cell_type": "code",
   "execution_count": null,
   "id": "80161dc8-15c4-4f38-ab96-f40d77b2e8fa",
   "metadata": {},
   "outputs": [],
   "source": []
  },
  {
   "cell_type": "markdown",
   "id": "8acc37f8-da6c-43ac-9e3d-1fe9000771db",
   "metadata": {},
   "source": [
    "<div class=\"alert alert-block alert-info\">\n",
    "<b>Problem 06</b>\n",
    "&nbsp; \n",
    "<p style=\"font-family: Comic Sans; font-size:11pt\">\n",
    "4217 eggs have to be packed in boxes that can hold 36 eggs each. By typing\n",
    "one line (command) in the Command Window, calculate how many eggs\n",
    "will remain unpacked if every box that is used has to be full. (Hint: use\n",
    "MATLAB built-in function fix.)"
   ]
  },
  {
   "cell_type": "code",
   "execution_count": null,
   "id": "15ca5925-1d76-4bac-bd8b-9433a16dc870",
   "metadata": {},
   "outputs": [],
   "source": []
  },
  {
   "cell_type": "markdown",
   "id": "ddd31a6a-a80f-47f2-85dd-f5cfb20276f2",
   "metadata": {},
   "source": [
    "<div class=\"alert alert-block alert-info\">\n",
    "<b>Problem 07</b>\n",
    "&nbsp; \n",
    "<p style=\"font-family: Comic Sans; font-size:11pt\">\n",
    "777 people have to be transported using buses that have 46 seats and vans\n",
    "that have 12 seats. Calculate how many buses are needed if all the buses have\n",
    "to be full, and how many seats will remain empty in the vans if enough vans\n",
    "are used to transport all the people that did not fit into the buses. (Hint: use\n",
    "MATLAB built-in functions fix. and ceil)"
   ]
  },
  {
   "cell_type": "code",
   "execution_count": null,
   "id": "ef8d3952-6e37-4a87-b6f4-f41149b2480a",
   "metadata": {},
   "outputs": [],
   "source": []
  },
  {
   "cell_type": "markdown",
   "id": "434f9eba-ad9f-49b5-90ae-35cd95438d20",
   "metadata": {},
   "source": [
    "<div class=\"alert alert-block alert-info\">\n",
    "<b>Problem 05</b>\n",
    "&nbsp; \n",
    "<p style=\"font-family: Comic Sans; font-size:11pt\">\n",
    "The voltage difference $V_{ab}$ between points a\n",
    "and $b$ in the Wheatstone bridge circuit is given\n",
    "by:  \n",
    "    \n",
    "$$ V_{ab} = V(\\frac{c-d}{(c+1)(d+1)}) $$\n",
    "&nbsp; \n",
    "&nbsp; \n",
    "&nbsp; \n",
    "    \n",
    "<img src=\"https://s22.picofile.com/file/8449677284/03.jpeg\" alt=\"fishy\" class=\"bg-primary\" width=\"210px\">\n",
    "\n",
    "<p style=\"font-family: Comic Sans; font-size:11pt\">    \n",
    "where $ c = \\frac{R_{2}}{R_{1}} $ and $ d = \\frac{R_{3}}{R_{4}} $ the  $ V_{ab} $ if $V = 15 $ volts, $R_{1} = 119.8$ ohms, $R_{2} = 120.5$ ohms, $R_{3} = 121.2$ ohms, $R_{4} = 119.3$ ohms.\n",
    "\n"
   ]
  },
  {
   "cell_type": "code",
   "execution_count": null,
   "id": "2f7bbde3-3cae-4b40-b5a9-b959ab9600d4",
   "metadata": {},
   "outputs": [],
   "source": []
  },
  {
   "cell_type": "code",
   "execution_count": null,
   "id": "794ab930-1cbd-4f06-9639-a1792f5e27ec",
   "metadata": {},
   "outputs": [],
   "source": []
  }
 ],
 "metadata": {
  "kernelspec": {
   "display_name": "Python 3 (ipykernel)",
   "language": "python",
   "name": "python3"
  },
  "language_info": {
   "codemirror_mode": {
    "name": "ipython",
    "version": 3
   },
   "file_extension": ".py",
   "mimetype": "text/x-python",
   "name": "python",
   "nbconvert_exporter": "python",
   "pygments_lexer": "ipython3",
   "version": "3.8.12"
  }
 },
 "nbformat": 4,
 "nbformat_minor": 5
}
