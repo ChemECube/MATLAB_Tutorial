{
 "cells": [
  {
   "cell_type": "markdown",
   "id": "6ac97249-15f5-4ccc-a510-a2d865c95b99",
   "metadata": {},
   "source": [
    "# Session 02"
   ]
  },
  {
   "cell_type": "markdown",
   "id": "9cb79f71-a7ad-4031-94f0-252db6e891bd",
   "metadata": {},
   "source": [
    "<img src=\"https://s23.picofile.com/file/8449677568/MatLab.png\" alt=\"fishy\" class=\"bg-primary\" width=\"200px\" align=\"center\">"
   ]
  },
  {
   "cell_type": "markdown",
   "id": "014ddc28-8431-4033-8d96-be3c6b4c8bd2",
   "metadata": {},
   "source": [
    "<div class=\"alert alert-block alert-info\">\n",
    "<b>Example 01</b>\n",
    "<p style=\"font-family: Comic Sans; font-size:11pt\"> "
   ]
  },
  {
   "cell_type": "code",
   "execution_count": null,
   "id": "32c5310c-af6d-4542-b050-ee7a35ca7b04",
   "metadata": {},
   "outputs": [],
   "source": [
    "for i=[1,2,3,4]\n",
    "      disp(i^2)\n",
    "end   "
   ]
  },
  {
   "cell_type": "markdown",
   "id": "81fa55ec-fd14-4ad4-baf3-3a9aefb251a3",
   "metadata": {},
   "source": [
    "<div class=\"alert alert-block alert-info\">\n",
    "<b>Example 02</b>\n",
    "<p style=\"font-family: Comic Sans; font-size:11pt\"> "
   ]
  },
  {
   "cell_type": "code",
   "execution_count": null,
   "id": "ec8d5227-74e1-4a0d-8f02-63c67eee7087",
   "metadata": {},
   "outputs": [],
   "source": []
  },
  {
   "cell_type": "code",
   "execution_count": null,
   "id": "2bcbef12-5da0-481d-99ee-eef8cb81a7f5",
   "metadata": {},
   "outputs": [],
   "source": []
  },
  {
   "cell_type": "code",
   "execution_count": null,
   "id": "c2b10cc0-1d8c-453e-b528-e684a128c322",
   "metadata": {},
   "outputs": [],
   "source": []
  },
  {
   "cell_type": "code",
   "execution_count": null,
   "id": "c702a09a-bbf2-4cbf-9190-d020febda431",
   "metadata": {},
   "outputs": [],
   "source": []
  },
  {
   "cell_type": "code",
   "execution_count": null,
   "id": "1fc9219a-002e-4a6a-8b3c-8543ccc4bd38",
   "metadata": {},
   "outputs": [],
   "source": []
  }
 ],
 "metadata": {
  "kernelspec": {
   "display_name": "Python 3 (ipykernel)",
   "language": "python",
   "name": "python3"
  },
  "language_info": {
   "codemirror_mode": {
    "name": "ipython",
    "version": 3
   },
   "file_extension": ".py",
   "mimetype": "text/x-python",
   "name": "python",
   "nbconvert_exporter": "python",
   "pygments_lexer": "ipython3",
   "version": "3.8.12"
  }
 },
 "nbformat": 4,
 "nbformat_minor": 5
}
