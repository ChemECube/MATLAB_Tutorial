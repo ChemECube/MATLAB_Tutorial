{
 "cells": [
  {
   "cell_type": "markdown",
   "id": "5ae9ef84-6b7c-41b8-a6bd-caa1cf7617f3",
   "metadata": {},
   "source": [
    "<img src=\"../../../images/banners/07 pic.png\" alt=\"if-block\" width=700 align=\"center\" />"
   ]
  },
  {
   "cell_type": "code",
   "execution_count": null,
   "id": "06036d39-1e9d-4108-b6ae-42bd1f55bd48",
   "metadata": {},
   "outputs": [],
   "source": []
  },
  {
   "cell_type": "code",
   "execution_count": null,
   "id": "38949b94-366d-4dfe-8c94-d760c9bea635",
   "metadata": {},
   "outputs": [],
   "source": []
  }
 ],
 "metadata": {
  "kernelspec": {
   "display_name": "Python 3 (ipykernel)",
   "language": "python",
   "name": "python3"
  },
  "language_info": {
   "codemirror_mode": {
    "name": "ipython",
    "version": 3
   },
   "file_extension": ".py",
   "mimetype": "text/x-python",
   "name": "python",
   "nbconvert_exporter": "python",
   "pygments_lexer": "ipython3",
   "version": "3.8.12"
  }
 },
 "nbformat": 4,
 "nbformat_minor": 5
}
