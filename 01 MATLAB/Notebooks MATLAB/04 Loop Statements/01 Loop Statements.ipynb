{
 "cells": [
  {
   "cell_type": "markdown",
   "id": "9cb79f71-a7ad-4031-94f0-252db6e891bd",
   "metadata": {},
   "source": [
    "<img src=\"../../../images/banners/07 pic.png\" alt=\"if-block\" width=700 align=\"center\" />"
   ]
  },
  {
   "cell_type": "code",
   "execution_count": null,
   "id": "694f69c1-6a19-4b8f-bba7-9664a764136a",
   "metadata": {},
   "outputs": [],
   "source": []
  },
  {
   "cell_type": "code",
   "execution_count": null,
   "id": "1ae2f5be-3110-4d4d-a5d2-bee324d4e292",
   "metadata": {},
   "outputs": [],
   "source": []
  },
  {
   "cell_type": "code",
   "execution_count": null,
   "id": "b20517e9-8db2-4719-95b2-9f46e46dd734",
   "metadata": {},
   "outputs": [],
   "source": []
  },
  {
   "cell_type": "markdown",
   "id": "90ae4e6a-7fab-4e92-a258-221e204f304f",
   "metadata": {},
   "source": [
    "<div class=\"alert alert-block alert-info\">\n",
    "<b>Example 01</b>\n",
    "<p style=\"font-family: Comic Sans; font-size:11pt\"> "
   ]
  },
  {
   "cell_type": "code",
   "execution_count": null,
   "id": "81973385-a67f-4fd0-a747-b7a7e5f9a870",
   "metadata": {},
   "outputs": [],
   "source": [
    "for i = 1:5\n",
    "   fprintf('%d ',i) \n",
    "end"
   ]
  },
  {
   "cell_type": "markdown",
   "id": "a1d70b11-ed4e-41ff-b4b8-cefdd014defb",
   "metadata": {},
   "source": [
    "<div class=\"alert alert-block alert-info\">\n",
    "<b>Example 01</b>\n",
    "<p style=\"font-family: Comic Sans; font-size:11pt\"> "
   ]
  },
  {
   "cell_type": "code",
   "execution_count": null,
   "id": "c749828b-eb08-44a3-b105-81e81196ab7f",
   "metadata": {},
   "outputs": [],
   "source": [
    "String = 'GeeksforGeeks'\n",
    "\n",
    "for i = 1:length(String)\n",
    "    fprintf('%c ',String(i))\n",
    "    %disp(String(i))\n",
    "end"
   ]
  },
  {
   "cell_type": "markdown",
   "id": "b0e93077-2336-4d8b-b47b-2ba761d3d515",
   "metadata": {},
   "source": [
    "<div class=\"alert alert-block alert-info\">\n",
    "<b>Example 01</b>\n",
    "<p style=\"font-family: Comic Sans; font-size:11pt\"> "
   ]
  },
  {
   "cell_type": "code",
   "execution_count": null,
   "id": "982ce033-8b4a-4c1d-8962-367bead0d874",
   "metadata": {},
   "outputs": [],
   "source": [
    "for a = 10:20\n",
    " fprintf('value of a: %d\\n', a);\n",
    "end"
   ]
  },
  {
   "cell_type": "markdown",
   "id": "93c5026a-03bc-46a3-a61a-388b936e62c4",
   "metadata": {},
   "source": [
    "<div class=\"alert alert-block alert-info\">\n",
    "<b>Example 01</b>\n",
    "<p style=\"font-family: Comic Sans; font-size:11pt\"> "
   ]
  },
  {
   "cell_type": "code",
   "execution_count": null,
   "id": "81910ba5-ed9f-4ecd-acf0-2ab0047657f0",
   "metadata": {},
   "outputs": [],
   "source": [
    "for a = 1.0: -0.1: 0.0\n",
    " disp(a)\n",
    "end\n"
   ]
  },
  {
   "cell_type": "markdown",
   "id": "014ddc28-8431-4033-8d96-be3c6b4c8bd2",
   "metadata": {},
   "source": [
    "<div class=\"alert alert-block alert-info\">\n",
    "<b>Example 01</b>\n",
    "<p style=\"font-family: Comic Sans; font-size:11pt\"> "
   ]
  },
  {
   "cell_type": "code",
   "execution_count": null,
   "id": "32c5310c-af6d-4542-b050-ee7a35ca7b04",
   "metadata": {},
   "outputs": [],
   "source": [
    "for i=[1,2,3,4]\n",
    "      disp(i^2)\n",
    "end   "
   ]
  },
  {
   "cell_type": "code",
   "execution_count": null,
   "id": "c06913fe-8586-435f-8d04-790d8f6b5b7d",
   "metadata": {},
   "outputs": [],
   "source": [
    "for i=1:4\n",
    "      disp(i^2)\n",
    "end  "
   ]
  },
  {
   "cell_type": "markdown",
   "id": "81fa55ec-fd14-4ad4-baf3-3a9aefb251a3",
   "metadata": {},
   "source": [
    "<div class=\"alert alert-block alert-info\">\n",
    "<b>Problem 01</b>\n",
    "<p style=\"font-family: Comic Sans; font-size:11pt\"> \n",
    "Let’s say we wanted to sum all 1, 2, and 3 digit prime numbers. To accomplish this, we could loop through all\n",
    "1, 2, and 3 digit integers, testing if each is a prime number (using the isprime function). If and only if a particular\n",
    "value is prime, then we’ll add it to our running total. Note that if a particular number is not prime, we don’t do\n",
    "anything other than advancing to the following number."
   ]
  },
  {
   "cell_type": "code",
   "execution_count": null,
   "id": "ec8d5227-74e1-4a0d-8f02-63c67eee7087",
   "metadata": {},
   "outputs": [],
   "source": [
    "total = 0;\n",
    "for k = 1:999\n",
    "     if(isprime(k))\n",
    "        total = total + k;\n",
    "    end\n",
    "end\n",
    "disp(total)"
   ]
  },
  {
   "cell_type": "markdown",
   "id": "0d2e5278-199c-4415-bf11-65a8179a5fe1",
   "metadata": {},
   "source": [
    "## Bubblesort"
   ]
  },
  {
   "cell_type": "code",
   "execution_count": null,
   "id": "c2b10cc0-1d8c-453e-b528-e684a128c322",
   "metadata": {},
   "outputs": [],
   "source": [
    "function B=bubblesort(A)\n",
    "n=length(A);\n",
    "\n",
    "for i = 1:n-1     % n:-1:2\n",
    "    for j = 1:n-i     % 1:n-1      % 1:i-1\n",
    "        if A(j)<A(j+1)\n",
    "            m = A(j);\n",
    "            A(j) = A(j+1);\n",
    "            A(j+1) = m;\n",
    "        end\n",
    "    end\n",
    "end\n",
    "\n",
    "B = A;\n",
    "\n",
    "end"
   ]
  },
  {
   "cell_type": "code",
   "execution_count": null,
   "id": "c702a09a-bbf2-4cbf-9190-d020febda431",
   "metadata": {},
   "outputs": [],
   "source": []
  },
  {
   "cell_type": "code",
   "execution_count": null,
   "id": "1fc9219a-002e-4a6a-8b3c-8543ccc4bd38",
   "metadata": {},
   "outputs": [],
   "source": []
  }
 ],
 "metadata": {
  "kernelspec": {
   "display_name": "Python 3 (ipykernel)",
   "language": "python",
   "name": "python3"
  },
  "language_info": {
   "codemirror_mode": {
    "name": "ipython",
    "version": 3
   },
   "file_extension": ".py",
   "mimetype": "text/x-python",
   "name": "python",
   "nbconvert_exporter": "python",
   "pygments_lexer": "ipython3",
   "version": "3.8.12"
  }
 },
 "nbformat": 4,
 "nbformat_minor": 5
}
