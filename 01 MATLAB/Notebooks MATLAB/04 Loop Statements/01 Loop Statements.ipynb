{
 "cells": [
  {
   "cell_type": "markdown",
   "id": "9cb79f71-a7ad-4031-94f0-252db6e891bd",
   "metadata": {},
   "source": [
    "<img src=\"../../../images/banners/07 pic.png\" alt=\"if-block\" width=700 align=\"center\" />"
   ]
  },
  {
   "cell_type": "markdown",
   "id": "6d9a1182-38c4-4547-b6be-e3e7aea8abff",
   "metadata": {},
   "source": [
    "## <img src=\"https://s22.picofile.com/file/8449797050/MATLAB.png\" width=\"23\"/> $Loop$ $Statements$ "
   ]
  },
  {
   "cell_type": "markdown",
   "id": "141d5381-f8c5-4cf6-b360-099208f320bd",
   "metadata": {},
   "source": [
    "## <img src=\"https://s23.picofile.com/file/8449796734/toc.png\" width=\"20\"/> Table of Contents \n",
    "* [$Loop$ $  Statements$](#Exercises)\n",
    "    * [$1. Summary$](#1.Summary)\n",
    "    * [$2. Exercises$](#2.Exercises)\n",
    "* [<img src=\"https://s23.picofile.com/file/8449796568/checkmark.png\" width=\"12\"/> Conclusion](#<img_src=\"../../images/logos/checkmark.png\"_width=\"20\"/>_conclusion)\n",
    "* [$FAQ$](#faq)\n",
    "\n",
    "---"
   ]
  },
  {
   "cell_type": "code",
   "execution_count": null,
   "id": "b20517e9-8db2-4719-95b2-9f46e46dd734",
   "metadata": {},
   "outputs": [],
   "source": []
  },
  {
   "cell_type": "markdown",
   "id": "5d75246d-f2ce-431c-b12d-89e1d1b3e71b",
   "metadata": {},
   "source": [
    "| Chapter 04 | | | | |\n",
    "|:--|:--|:--|:--|:--|\n",
    "|`for`|`while`|\n"
   ]
  },
  {
   "cell_type": "markdown",
   "id": "50ff0929-bc09-4dc7-92c2-4adb36c8a34f",
   "metadata": {},
   "source": [
    "## $Exercises$"
   ]
  },
  {
   "cell_type": "markdown",
   "id": "90ae4e6a-7fab-4e92-a258-221e204f304f",
   "metadata": {},
   "source": [
    "<div class=\"alert alert-block alert-info\">\n",
    "<b>Exercise 01</b>\n",
    "<p style=\"font-family: Comic Sans; font-size:11pt\"> \n",
    "    \n",
    "1 &emsp; 2 &emsp; 3 &emsp; 4 &emsp; 5\n"
   ]
  },
  {
   "cell_type": "code",
   "execution_count": null,
   "id": "81973385-a67f-4fd0-a747-b7a7e5f9a870",
   "metadata": {},
   "outputs": [],
   "source": [
    "for i = 1:5\n",
    "   fprintf('%d ',i) \n",
    "end"
   ]
  },
  {
   "cell_type": "markdown",
   "id": "a1d70b11-ed4e-41ff-b4b8-cefdd014defb",
   "metadata": {},
   "source": [
    "<div class=\"alert alert-block alert-info\">\n",
    "<b>Exercise 02</b>\n",
    "<p style=\"font-family: Comic Sans; font-size:11pt\">\n",
    "    \n",
    "k&emsp;o&emsp;e&emsp;o&emsp;s&emsp;h&emsp;k&emsp;o&emsp;r&emsp;o&emsp;s&emsp;h&emsp;1"
   ]
  },
  {
   "cell_type": "code",
   "execution_count": null,
   "id": "c749828b-eb08-44a3-b105-81e81196ab7f",
   "metadata": {},
   "outputs": [],
   "source": [
    "String = 'koroshkorosh1'\n",
    "\n",
    "for i = 1:length(String)\n",
    "    fprintf('%c ',String(i))\n",
    "    %disp(String(i))\n",
    "end"
   ]
  },
  {
   "cell_type": "markdown",
   "id": "b0e93077-2336-4d8b-b47b-2ba761d3d515",
   "metadata": {},
   "source": [
    "<div class=\"alert alert-block alert-info\">\n",
    "<b>Exercise 03</b>\n",
    "<p style=\"font-family: Comic Sans; font-size:11pt\"> \n",
    "    \n",
    "value of a: 10 \\\n",
    "value of a: 11 \\\n",
    "value of a: 12 \\\n",
    "value of a: 13 \\\n",
    "value of a: 14 \\\n",
    "value of a: 15 \\\n",
    "value of a: 16 \\\n",
    "value of a: 17 \\\n",
    "value of a: 18 \\\n",
    "value of a: 19 \\\n",
    "value of a: 20"
   ]
  },
  {
   "cell_type": "code",
   "execution_count": null,
   "id": "982ce033-8b4a-4c1d-8962-367bead0d874",
   "metadata": {},
   "outputs": [],
   "source": [
    "for a = 10:20\n",
    " fprintf('value of a: %d\\n', a);\n",
    "end"
   ]
  },
  {
   "cell_type": "markdown",
   "id": "93c5026a-03bc-46a3-a61a-388b936e62c4",
   "metadata": {},
   "source": [
    "<div class=\"alert alert-block alert-info\">\n",
    "<b>Exercise 04</b>\n",
    "<p style=\"font-family: Comic Sans; font-size:11pt\"> \n",
    "    \n",
    "    \n",
    "    \n",
    "1\\\n",
    "0.9000\\\n",
    "0.8000\\\n",
    "0.7000\\\n",
    "0.6000\\\n",
    "0.5000\\\n",
    "0.4000\\\n",
    "0.3000\\\n",
    "0.2000\\\n",
    "0.1000\\\n",
    "0\n",
    "    "
   ]
  },
  {
   "cell_type": "code",
   "execution_count": null,
   "id": "81910ba5-ed9f-4ecd-acf0-2ab0047657f0",
   "metadata": {},
   "outputs": [],
   "source": [
    "for a = 1.0: -0.1: 0.0\n",
    " disp(a)\n",
    "end\n"
   ]
  },
  {
   "cell_type": "markdown",
   "id": "014ddc28-8431-4033-8d96-be3c6b4c8bd2",
   "metadata": {},
   "source": [
    "<div class=\"alert alert-block alert-info\">\n",
    "<b>Exercise 05</b>\n",
    "<p style=\"font-family: Comic Sans; font-size:11pt\"> \n",
    "    \n",
    "1\\\n",
    "4\\\n",
    "9\\\n",
    "16"
   ]
  },
  {
   "cell_type": "code",
   "execution_count": null,
   "id": "32c5310c-af6d-4542-b050-ee7a35ca7b04",
   "metadata": {},
   "outputs": [],
   "source": [
    "# Part 1\n",
    "for i=[1,2,3,4]\n",
    "      disp(i^2)\n",
    "end   "
   ]
  },
  {
   "cell_type": "code",
   "execution_count": null,
   "id": "c06913fe-8586-435f-8d04-790d8f6b5b7d",
   "metadata": {},
   "outputs": [],
   "source": [
    "# Part 2\n",
    "for i=1:4\n",
    "      disp(i^2)\n",
    "end  "
   ]
  },
  {
   "cell_type": "markdown",
   "id": "f8d52442-d2ac-4468-91df-ba48618a4afa",
   "metadata": {},
   "source": [
    "<div class=\"alert alert-block alert-info\">\n",
    "<b>Exercise 05</b>\n",
    "<p style=\"font-family: Comic Sans; font-size:11pt\"> \n",
    "    \n",
    "4\\\n",
    "3\\\n",
    "5\\\n",
    "1\\\n",
    "2"
   ]
  },
  {
   "cell_type": "code",
   "execution_count": null,
   "id": "07b46d4f-118a-4e27-8c6e-3b614e1add52",
   "metadata": {},
   "outputs": [],
   "source": [
    "vector = [4, 3, 5, 1, 2];\n",
    "for any_name = vector\n",
    "      disp(any_name)\n",
    "end"
   ]
  },
  {
   "cell_type": "markdown",
   "id": "c556687e-b370-43e0-bd61-048668b4a839",
   "metadata": {},
   "source": [
    "<div class=\"alert alert-block alert-info\">\n",
    "<b>Exercise 05</b>\n",
    "<p style=\"font-family: Comic Sans; font-size:11pt\"> \n",
    "\n",
    "a1\\\n",
    "a2\\\n",
    "a3\\\n",
    "b1\\\n",
    "b2\\\n",
    "b3\\\n",
    "c1\\\n",
    "c2\\\n",
    "c3"
   ]
  },
  {
   "cell_type": "code",
   "execution_count": null,
   "id": "be7ba2bd-ae84-458f-bf3c-3ae5dc7793df",
   "metadata": {},
   "outputs": [],
   "source": [
    "ch = 'abc';\n",
    "m = 3;\n",
    "for c = ch\n",
    "     for k = 1:m\n",
    "     disp([c num2str(k)]) % NUM2STR converts the number stored in k to a character,\n",
    "% so it can be concatenated with the letter in c\n",
    "   end\n",
    "end\n"
   ]
  },
  {
   "cell_type": "markdown",
   "id": "68b116a7-e975-4ba9-87ed-ea054b9bba34",
   "metadata": {},
   "source": [
    "<div class=\"alert alert-block alert-info\">\n",
    "<b>Exercise 05</b>\n",
    "<p style=\"font-family: Comic Sans; font-size:11pt\"> \n",
    "\n",
    "x= 1 and y= 1 \\\n",
    "x= 1 and y= 2 \\\n",
    "x= 2 and y= 1 \\\n",
    "x= 2 and y= 2 \\\n",
    "x= 3 and y= 1 \\\n",
    "x= 3 and y= 2"
   ]
  },
  {
   "cell_type": "code",
   "execution_count": null,
   "id": "779e2778-f127-4f64-8c89-586ce0d90375",
   "metadata": {},
   "outputs": [],
   "source": [
    "for x = 1:3\n",
    "    for y = 1:2\n",
    "       fprintf('x= %.0f and y= %.0f\\n',x,y)\n",
    "    end\n",
    "end"
   ]
  },
  {
   "cell_type": "markdown",
   "id": "17b343eb-9867-44e4-94a1-08c30128e753",
   "metadata": {},
   "source": [
    "<div class=\"alert alert-block alert-info\">\n",
    "<b>Exercise 05</b>\n",
    "<p style=\"font-family: Comic Sans; font-size:11pt\"> \n"
   ]
  },
  {
   "cell_type": "code",
   "execution_count": null,
   "id": "4483a4f6-4a15-45c0-a6f4-db97a9b6fb66",
   "metadata": {},
   "outputs": [],
   "source": []
  },
  {
   "cell_type": "code",
   "execution_count": null,
   "id": "38469c73-eaba-491a-b037-20ff33c18097",
   "metadata": {},
   "outputs": [],
   "source": []
  },
  {
   "cell_type": "code",
   "execution_count": null,
   "id": "1f3a7ad2-a2ac-42e1-88e3-e7e67a3cb51d",
   "metadata": {},
   "outputs": [],
   "source": []
  },
  {
   "cell_type": "code",
   "execution_count": null,
   "id": "ed1dde46-490e-4a0f-910d-34c6ee73ad05",
   "metadata": {},
   "outputs": [],
   "source": []
  },
  {
   "cell_type": "code",
   "execution_count": null,
   "id": "a2c12b39-8434-4f12-af30-eac23c62d39b",
   "metadata": {},
   "outputs": [],
   "source": []
  },
  {
   "cell_type": "code",
   "execution_count": null,
   "id": "90155be2-28f7-4cc7-8192-9ed91078a09f",
   "metadata": {},
   "outputs": [],
   "source": []
  },
  {
   "cell_type": "code",
   "execution_count": null,
   "id": "abe533a9-2e7e-4953-8cb1-5a5e98e3ff24",
   "metadata": {},
   "outputs": [],
   "source": []
  },
  {
   "cell_type": "code",
   "execution_count": null,
   "id": "6461f9b5-4d38-45b7-83d5-eae399585e0c",
   "metadata": {},
   "outputs": [],
   "source": []
  },
  {
   "cell_type": "markdown",
   "id": "a4355149-0b5f-422e-b708-82bd4834d4fb",
   "metadata": {},
   "source": [
    "<div class=\"alert alert-block alert-info\">\n",
    "<b>Problem 06</b>\n",
    "<p style=\"font-family: Comic Sans; font-size:11pt\"> \n",
    "Write a script that will print the following multiplication table:\n",
    "    \n",
    "1 \\\n",
    "2 &emsp; 4 \\\n",
    "3  &emsp; 6&emsp;  9 \\\n",
    "4 &emsp; 8  &emsp;12 &emsp; 16 \\\n",
    "5  &emsp;10&emsp; 15&emsp;  20&emsp; 25"
   ]
  },
  {
   "cell_type": "code",
   "execution_count": null,
   "id": "9df37e2d-3a88-4a74-993f-f0a191f5f9b3",
   "metadata": {},
   "outputs": [],
   "source": [
    "rows = 5;\n",
    "for i = 1:rows\n",
    "   for j = 1:i\n",
    "       fprintf('%d ', i*j)\n",
    "    end\n",
    "    fprintf('\\n')\n",
    "end"
   ]
  },
  {
   "cell_type": "markdown",
   "id": "81fa55ec-fd14-4ad4-baf3-3a9aefb251a3",
   "metadata": {},
   "source": [
    "<div class=\"alert alert-block alert-info\">\n",
    "<b>Exercise 06</b>\n",
    "<p style=\"font-family: Comic Sans; font-size:11pt\"> \n",
    "Let’s say we wanted to sum all 1, 2, and 3 digit prime numbers. To accomplish this, we could loop through all\n",
    "1, 2, and 3 digit integers, testing if each is a prime number (using the isprime function). If and only if a particular\n",
    "value is prime, then we’ll add it to our running total. Note that if a particular number is not prime, we don’t do\n",
    "anything other than advancing to the following number."
   ]
  },
  {
   "cell_type": "code",
   "execution_count": null,
   "id": "ec8d5227-74e1-4a0d-8f02-63c67eee7087",
   "metadata": {},
   "outputs": [],
   "source": [
    "total = 0;\n",
    "for k = 1:999\n",
    "     if(isprime(k))\n",
    "        total = total + k;\n",
    "    end\n",
    "end\n",
    "disp(total)"
   ]
  },
  {
   "cell_type": "markdown",
   "id": "63ba1bab-9c4c-4138-aab6-753ac82d692a",
   "metadata": {},
   "source": []
  },
  {
   "cell_type": "code",
   "execution_count": null,
   "id": "a7205013-b24e-41aa-8823-f84d37525490",
   "metadata": {},
   "outputs": [],
   "source": []
  },
  {
   "cell_type": "code",
   "execution_count": null,
   "id": "d4fb7278-aa64-4ad6-bbf2-e5fb03a2861a",
   "metadata": {},
   "outputs": [],
   "source": []
  },
  {
   "cell_type": "code",
   "execution_count": null,
   "id": "25de0f39-fddd-46fa-9477-0e565952caf3",
   "metadata": {},
   "outputs": [],
   "source": []
  },
  {
   "cell_type": "code",
   "execution_count": null,
   "id": "65215de9-002a-4fd0-a52c-276e50bc5b17",
   "metadata": {},
   "outputs": [],
   "source": []
  },
  {
   "cell_type": "code",
   "execution_count": null,
   "id": "ecaacaf6-ef74-4bca-9dfd-df827ff37ee7",
   "metadata": {},
   "outputs": [],
   "source": []
  },
  {
   "cell_type": "code",
   "execution_count": null,
   "id": "149fe524-627b-4b2a-9416-70f1341e0c1b",
   "metadata": {},
   "outputs": [],
   "source": []
  },
  {
   "cell_type": "code",
   "execution_count": null,
   "id": "184ee7fd-5104-4217-bbbc-116332c2ab9b",
   "metadata": {},
   "outputs": [],
   "source": []
  },
  {
   "cell_type": "code",
   "execution_count": null,
   "id": "8038d42a-e6f1-4cb1-a213-449391e8a7a9",
   "metadata": {},
   "outputs": [],
   "source": []
  },
  {
   "cell_type": "code",
   "execution_count": null,
   "id": "4986be3d-c634-4062-99de-f4c87d88fcec",
   "metadata": {},
   "outputs": [],
   "source": []
  },
  {
   "cell_type": "code",
   "execution_count": null,
   "id": "e49252a8-aa32-41e5-8900-bf64bbefe0e1",
   "metadata": {},
   "outputs": [],
   "source": []
  },
  {
   "cell_type": "code",
   "execution_count": null,
   "id": "71d74c87-550c-44c7-b97c-a66f2b919ecb",
   "metadata": {},
   "outputs": [],
   "source": []
  },
  {
   "cell_type": "markdown",
   "id": "0d2e5278-199c-4415-bf11-65a8179a5fe1",
   "metadata": {},
   "source": [
    "## Bubblesort"
   ]
  },
  {
   "cell_type": "code",
   "execution_count": null,
   "id": "c2b10cc0-1d8c-453e-b528-e684a128c322",
   "metadata": {},
   "outputs": [],
   "source": [
    "function B=bubblesort(A)\n",
    "n=length(A);\n",
    "\n",
    "for i = 1:n-1     % n:-1:2\n",
    "    for j = 1:n-i     % 1:n-1      % 1:i-1\n",
    "        if A(j)<A(j+1)\n",
    "            m = A(j);\n",
    "            A(j) = A(j+1);\n",
    "            A(j+1) = m;\n",
    "        end\n",
    "    end\n",
    "end\n",
    "\n",
    "B = A;\n",
    "\n",
    "end"
   ]
  },
  {
   "cell_type": "code",
   "execution_count": null,
   "id": "c702a09a-bbf2-4cbf-9190-d020febda431",
   "metadata": {},
   "outputs": [],
   "source": []
  },
  {
   "cell_type": "code",
   "execution_count": null,
   "id": "1fc9219a-002e-4a6a-8b3c-8543ccc4bd38",
   "metadata": {},
   "outputs": [],
   "source": []
  }
 ],
 "metadata": {
  "kernelspec": {
   "display_name": "Python 3 (ipykernel)",
   "language": "python",
   "name": "python3"
  },
  "language_info": {
   "codemirror_mode": {
    "name": "ipython",
    "version": 3
   },
   "file_extension": ".py",
   "mimetype": "text/x-python",
   "name": "python",
   "nbconvert_exporter": "python",
   "pygments_lexer": "ipython3",
   "version": "3.8.12"
  }
 },
 "nbformat": 4,
 "nbformat_minor": 5
}
