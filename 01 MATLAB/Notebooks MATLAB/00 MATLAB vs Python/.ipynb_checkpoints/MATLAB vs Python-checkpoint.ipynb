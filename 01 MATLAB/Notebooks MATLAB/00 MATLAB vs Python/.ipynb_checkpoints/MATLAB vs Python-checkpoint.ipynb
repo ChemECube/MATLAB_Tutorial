{
 "cells": [
  {
   "cell_type": "markdown",
   "id": "05d8a3b2-265f-4867-8d17-dbe3d54b0b53",
   "metadata": {},
   "source": [
    "<img src=\"../../../images/banners/06 pic.png\" alt=\"if-block\" width=700 align=\"center\" />"
   ]
  },
  {
   "cell_type": "markdown",
   "id": "0c05c9cd-7d33-42b8-91a5-85bc50ebe26b",
   "metadata": {},
   "source": [
    "# MATLAB vs Python: Comparing Features and Philosophy"
   ]
  },
  {
   "cell_type": "markdown",
   "id": "b01f9732-9746-4138-9eff-ee84da5401ab",
   "metadata": {},
   "source": [
    "Python is a high-level, general-purpose programming language designed for ease of use by human beings accomplishing all sorts of tasks. Python was created by Guido van Rossum and first released in the early 1990s. Python is a mature language developed by hundreds of collaborators around the world.\n",
    "\n",
    "Python is used by developers working on small, personal projects all the way up to some of the largest internet companies in the world. Not only does Python run Reddit and Dropbox, but the original Google algorithm was written in Python. Also, the Python-based Django Framework runs Instagram and many other websites. On the science and engineering side, the data to create the 2019 photo of a black hole was processed in Python, and major companies like Netflix use Python in their data analytics work.\n",
    "\n",
    "There is also an important philosophical difference in the MATLAB vs Python comparison. MATLAB is proprietary, closed-source software. For most people, a license to use MATLAB is quite expensive, which means that if you have code in MATLAB, then only people who can afford a license will be able to run it. Plus, users are charged for each additional toolbox they want to install to extend the basic functionality of MATLAB. Aside from the cost, the MATLAB language is developed exclusively by Mathworks. If Mathworks were ever to go out of business, then MATLAB would no longer be able to be developed and might eventually stop functioning.\n",
    "\n",
    "On the other hand, Python is free and open-source software. Not only can you download Python at no cost, but you can also download, look at, and modify the source code as well. This is a big advantage for Python because it means that anyone can pick up the development of the language if the current developers were unable to continue for some reason.\n",
    "\n",
    "If you’re a researcher or scientist, then using open-source software has some pretty big benefits. Paul Romer, the 2018 Nobel Laureate in Economics, is a recent convert to Python. By his estimation, switching to open-source software in general, and Python in particular, brought greater integrity and accountability to his research. This was because all of the code could be shared and run by any interested reader. Prof. Romer wrote an excellent article, Jupyter, Mathematica, and the Future of the Research Paper, about his experience with open-source software.\n",
    "\n",
    "Moreover, since Python is available at no cost, a much broader audience can use the code you develop. As you’ll see a little later on in the article, Python has an awesome community that can help you get started with the language and advance your knowledge. There are tens of thousands of tutorials, articles, and books all about Python software development. Here are a few to get you started:\n",
    "\n",
    "\n",
    "- Introduction to Python 3\n",
    "- Basic Data Types in Python\n",
    "- Python 3 Basics Learning Path\n",
    "\n",
    "Plus, with so many developers in the community, there are hundreds of thousands of free packages to accomplish many of the tasks that you’ll want to do with Python. You’ll learn more about how to get these packages later on in this article.\n",
    "\n",
    "Like MATLAB, Python is an interpreted language. This means that Python code can be ported between all of the major operating system platforms and CPU architectures out there, with only small changes required for different platforms. There are distributions of Python for desktop and laptop CPUs and microcontrollers like Adafruit. Python can also talk to other microcontrollers like Arduino with a simple programming interface that is almost identical no matter the host operating system.\n",
    "\n",
    "For all of these reasons, and many more, Python is an excellent choice to replace MATLAB as your programming language of choice. Now that you’re convinced to try out Python, read on to find out how to get it on your computer and how to switch from MATLAB!"
   ]
  },
  {
   "cell_type": "markdown",
   "id": "7c51c180-f7a7-440e-b456-0b183ac1f1f7",
   "metadata": {},
   "source": [
    "<img src=\"https://s23.picofile.com/file/8449797826/celebrate.png\" alt=\"notebook\" width=80 align=\"center\" />"
   ]
  }
 ],
 "metadata": {
  "kernelspec": {
   "display_name": "Python 3 (ipykernel)",
   "language": "python",
   "name": "python3"
  },
  "language_info": {
   "codemirror_mode": {
    "name": "ipython",
    "version": 3
   },
   "file_extension": ".py",
   "mimetype": "text/x-python",
   "name": "python",
   "nbconvert_exporter": "python",
   "pygments_lexer": "ipython3",
   "version": "3.8.12"
  }
 },
 "nbformat": 4,
 "nbformat_minor": 5
}
