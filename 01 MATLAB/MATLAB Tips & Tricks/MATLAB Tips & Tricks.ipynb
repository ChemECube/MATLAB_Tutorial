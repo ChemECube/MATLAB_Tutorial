{
 "cells": [
  {
   "cell_type": "markdown",
   "id": "91e4e295-5976-455b-9ad0-12e5f5032113",
   "metadata": {},
   "source": [
    "<img src=\"../../images/banners/05 pic.png\" alt=\"if-block\" width=600 align=\"center\" />"
   ]
  },
  {
   "cell_type": "markdown",
   "id": "90f6a56d-afbb-4d8d-bd5f-f967a89e06ea",
   "metadata": {},
   "source": [
    "# MATLAB Tips & Tricks\n"
   ]
  },
  {
   "cell_type": "code",
   "execution_count": null,
   "id": "09c0d126-29c3-4273-b016-f67dc9367b18",
   "metadata": {},
   "outputs": [],
   "source": []
  },
  {
   "cell_type": "code",
   "execution_count": null,
   "id": "101a7187-ddb8-45ad-91c5-d35f069bf74c",
   "metadata": {},
   "outputs": [],
   "source": []
  },
  {
   "cell_type": "code",
   "execution_count": null,
   "id": "605b1bdd-6654-4822-af8e-faf0e24662f2",
   "metadata": {},
   "outputs": [],
   "source": []
  },
  {
   "cell_type": "code",
   "execution_count": null,
   "id": "4a89f99a-45c3-4bb9-8092-96c4d8143484",
   "metadata": {},
   "outputs": [],
   "source": []
  }
 ],
 "metadata": {
  "kernelspec": {
   "display_name": "Python 3 (ipykernel)",
   "language": "python",
   "name": "python3"
  },
  "language_info": {
   "codemirror_mode": {
    "name": "ipython",
    "version": 3
   },
   "file_extension": ".py",
   "mimetype": "text/x-python",
   "name": "python",
   "nbconvert_exporter": "python",
   "pygments_lexer": "ipython3",
   "version": "3.8.12"
  }
 },
 "nbformat": 4,
 "nbformat_minor": 5
}
