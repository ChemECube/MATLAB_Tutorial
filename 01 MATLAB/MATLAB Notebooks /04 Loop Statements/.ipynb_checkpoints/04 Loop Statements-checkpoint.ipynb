{
 "cells": [
  {
   "cell_type": "markdown",
   "id": "cca520f2-09bb-45fe-b432-85b72f4433fc",
   "metadata": {},
   "source": [
    "<img src=\"../../../images/banners/09 pic.png\" alt=\"if-block\" width=700 align=\"center\" />"
   ]
  },
  {
   "cell_type": "code",
   "execution_count": null,
   "id": "40af8cdc-1ede-41e6-ab1e-f7692a1adf43",
   "metadata": {},
   "outputs": [],
   "source": []
  },
  {
   "cell_type": "code",
   "execution_count": null,
   "id": "38368213-21d3-458e-9d97-9e9876be1d51",
   "metadata": {},
   "outputs": [],
   "source": []
  }
 ],
 "metadata": {
  "kernelspec": {
   "display_name": "Python 3 (ipykernel)",
   "language": "python",
   "name": "python3"
  },
  "language_info": {
   "codemirror_mode": {
    "name": "ipython",
    "version": 3
   },
   "file_extension": ".py",
   "mimetype": "text/x-python",
   "name": "python",
   "nbconvert_exporter": "python",
   "pygments_lexer": "ipython3",
   "version": "3.8.12"
  }
 },
 "nbformat": 4,
 "nbformat_minor": 5
}
