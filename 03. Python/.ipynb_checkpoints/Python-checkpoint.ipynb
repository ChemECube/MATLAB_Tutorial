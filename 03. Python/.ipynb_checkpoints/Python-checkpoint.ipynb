{
 "cells": [
  {
   "cell_type": "markdown",
   "id": "66fa9d06-6e46-4650-a6d3-11b5fa1656b4",
   "metadata": {},
   "source": [
    "## 03. Python"
   ]
  }
 ],
 "metadata": {
  "kernelspec": {
   "display_name": "Python 3 (ipykernel)",
   "language": "python",
   "name": "python3"
  },
  "language_info": {
   "codemirror_mode": {
    "name": "ipython",
    "version": 3
   },
   "file_extension": ".py",
   "mimetype": "text/x-python",
   "name": "python",
   "nbconvert_exporter": "python",
   "pygments_lexer": "ipython3",
   "version": "3.8.12"
  }
 },
 "nbformat": 4,
 "nbformat_minor": 5
}
