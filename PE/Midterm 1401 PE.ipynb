{
 "cells": [
  {
   "cell_type": "markdown",
   "id": "28d35836-1933-4e08-af6f-d43143ddb4a4",
   "metadata": {},
   "source": [
    "<div class=\"alert alert-block alert-danger\">\n",
    "<b>Midterm 1401 PE</b> \n",
    "</div>"
   ]
  },
  {
   "cell_type": "markdown",
   "id": "278bb451-b77d-4da2-9ef1-685085e04786",
   "metadata": {},
   "source": [
    "<div class=\"alert alert-block alert-info\"><b>Problem 01</b> \n",
    "<p style=\"font-family: Comic Sans; font-size:11pt\"> \n",
    "A two-dimensional vector in a Cartesian plane can be represented in either rectangular coordinates $(x,y)$ or the polar coordinates $(r,\\theta)$. \n",
    "The relationships among these two sets of coordinates are given by the following \n",
    "equations:\n",
    " \n",
    "$$ x = rcos(\\theta)$$\n",
    "    &nbsp;\n",
    "$$ y = rsin(\\theta)$$\n",
    "    &nbsp;\n",
    "$$ z = rsin(\\phi) $$\n",
    "    &nbsp;\n",
    "$$ r = \\sqrt{x^{2} + y^{2}} $$\n",
    "    &nbsp;\n",
    "$$ \\theta=\\tan^{-1}\\frac{x}{y} $$\n",
    "    \n",
    "<p style=\"font-family: Comic Sans; font-size:11pt\"> \n",
    "Use the MATLAB help system to look up function $atan2$, and use that function in answering the following questions.\n",
    "<p style=\"font-family: Comic Sans; font-size:11pt\">     \n",
    "($a$) Write a program that accepts a two-dimensional vector in rectangular coordinates and calculates the vector in polar coordinates, with the angle $theta$\n",
    "expressed in degrees.\n",
    "<p style=\"font-family: Comic Sans; font-size:11pt\"> \n",
    "($b$) Write a program that accepts a two-dimensional vector in polar coordinates \n",
    "(with the angle in degrees) and calculates the vector in rectangular coordinates. \n",
    "</div>"
   ]
  },
  {
   "cell_type": "code",
   "execution_count": null,
   "id": "199773fb-767e-4eca-b5de-a063121a9fd8",
   "metadata": {},
   "outputs": [],
   "source": [
    "# Part(a)\n",
    "% Define variables: \n",
    "% x, y  -- Rectangular coordinates of vector \n",
    "% r     -- Length of vector \n",
    "% theta -- Direction of vector in degrees \n",
    "% Prompt the user for the input points \n",
    "x = input('Enter x: '); \n",
    "y = input('Enter y: '); \n",
    " \n",
    "% Calculate polar coordinates. Note that \"180/pi\" converts \n",
    "% from radians to degrees. \n",
    "r = sqrt(x^2 + y^2); \n",
    "theta = atan2(y,x) * 180/pi; \n",
    "\n",
    "% Tell user \n",
    "disp (['The polar coordinates are ' num2str(r) ' at an angle of ' num2str(theta) ' deg.']); "
   ]
  },
  {
   "cell_type": "code",
   "execution_count": null,
   "id": "7a766d74-71bc-4b4a-9296-f5a0af1a5bc2",
   "metadata": {},
   "outputs": [],
   "source": [
    "# Part(b)\n",
    "% Define variables: \n",
    "% x, y    -- Rectangular coordinates of vector \n",
    "% r       -- Length of vector \n",
    "% theta   -- Direction of vector in degrees \n",
    "% Prompt the user for the input points \n",
    "r = input('Enter vector length r: '); \n",
    "theta = input('Enter angle theta in degrees: '); \n",
    " \n",
    "% Calculate polar coordinates. Note that \"pi/180\" converts \n",
    "% from radians to degrees. \n",
    "x = r * cos(theta * pi/180); \n",
    "y = r * sin(theta * pi/180); \n",
    "% Tell user \n",
    "disp (['The rectangular coordinates are x = ' num2str(x) ' and y = ' num2str(y)]); "
   ]
  },
  {
   "cell_type": "markdown",
   "id": "96f56393-a0f2-44e6-bc93-be4519550040",
   "metadata": {},
   "source": [
    "<div class=\"alert alert-block alert-info\">\n",
    "<b>Problem 02</b> \n",
    "    \n",
    "<p style=\"font-family: Comic Sans; font-size:11pt\"> \n",
    "A three-dimensional vector can be represented in either rectangular coordinates $ A = (x, y, z) $ or spherical coordinates $ B =(r, u, \\phi) $ .\n",
    "The relationships among these two sets of coordinates are given by the following equation \n",
    "\n",
    "$$ x = rcos(\\phi)cos(\\theta)$$\n",
    "    &nbsp;\n",
    "$$ y = rcos(\\phi)sin(\\theta)$$\n",
    "    &nbsp;\n",
    "$$ z = rsin(\\phi) $$\n",
    "    &nbsp;\n",
    "$$ r = \\sqrt{x^{2} + y^{2} + z^{2}} $$\n",
    "    &nbsp;\n",
    "$$ \\theta=\\tan^{-1}\\frac{x}{y} $$\n",
    "    \n",
    "<p style=\"font-family: Comic Sans; font-size:11pt\">     \n",
    "Use the MATLAB help system to look up function $atan2$, and use that function in answering the following questions.\n",
    "\n",
    "<p style=\"font-family: Comic Sans; font-size:11pt\">   \n",
    "($a$) Write a program that accepts a three-dimensional vector in rectangular coordinates and calculates the vector in spherical coordinates, with the angles $u$\n",
    "and $\\phi$ expressed in degrees.\n",
    "    \n",
    "<p style=\"font-family: Comic Sans; font-size:11pt\">   \n",
    "($b$) Write a program that accepts a three-dimensional vector in spherical coordinates (with the angles $u$ and $\\phi$ in degrees) and calculates the vector in rectangular coordinates. \n",
    "</div>\n",
    "\n"
   ]
  },
  {
   "cell_type": "code",
   "execution_count": null,
   "id": "b5923f44-97bb-422d-b652-0d02fbc9ad7f",
   "metadata": {},
   "outputs": [],
   "source": [
    "# Part(a)\n",
    "% Define variables: \n",
    "% x, y, z    -- Rectangular coordinates of vector\n",
    "% r          -- Length of vector\n",
    "% theta      -- Direction of vector (x, y) plan, in degress\n",
    "% phi        -- Elevation angle of vector, in degress\n",
    "x = input('Enter x:  ')\n",
    "y = input('Enter y:  ')\n",
    "z = input('Enter z:  ')\n",
    "% calculate polar coordinates. note: that \"180/pi\" converts\n",
    "r = sqrt(x^2 + y^2 + z^2)\n",
    "theta = atan2(y, x) * 180/pi\n",
    "phi = atan2(z,sqrt(x^2 + y^2)) * 180/pi; \n",
    "% Tell user \n",
    "disp ('The spherical coordinates are:'); \n",
    "disp (['r = ' num2str(r)]); \n",
    "disp (['theta = ' num2str(theta)]); \n",
    "disp (['phi = ' num2str(phi)]); "
   ]
  },
  {
   "cell_type": "code",
   "execution_count": null,
   "id": "6da92513-fff7-4b54-aad6-b49dc139752e",
   "metadata": {},
   "outputs": [],
   "source": [
    "# Part(b)\n",
    "% Define variables: \n",
    "% x, y, z   -- Rectangular coordinates of vector \n",
    "% r         -- Length of vector \n",
    "% theta     -- Direction of vector (x,y) plane, in degrees \n",
    "% phi       -- Elevation angle of vector, in degrees \n",
    "% Prompt the user for the input points \n",
    "r = input('Enter vector length r: '); \n",
    "theta = input('Enter plan view angle theta in degrees: '); \n",
    "phi = input('Enter elevation angle phi in degrees: '); \n",
    "\n",
    "% Calculate spherical coordinates. Note that \"pi/180\" converts \n",
    "% from radians to degrees. \n",
    "x = r * cos(phi * pi/180) * cos(theta * pi/180); \n",
    "y = r * cos(phi * pi/180) * sin(theta * pi/180); \n",
    "z = r * sin(phi * pi/180); \n",
    "\n",
    "% Tell user \n",
    "disp ('The 3D rectangular coordinates are:'); \n",
    "disp (['x = ' num2str(x)]); \n",
    "disp (['y = ' num2str(y)]); \n",
    "disp (['z = ' num2str(z)]); "
   ]
  },
  {
   "cell_type": "markdown",
   "id": "9a53cd49-8aa4-445f-b553-43520156f6db",
   "metadata": {},
   "source": [
    "<div class=\"alert alert-block alert-info\">\n",
    "<b>Problem 03</b> \n",
    "    \n",
    "<p style=\"font-family: Comic Sans; font-size:11pt\">\n",
    "Calculating the Angle between Two Vectors It can be shown that the dot product of two vectors is equal to the magnitude of each vector times the cosine of the angle between them:\n",
    " \n",
    "$$ u = x\\widehat{i} + y\\widehat{j} + z\\widehat{k} $$   \n",
    "    &nbsp;\n",
    "$$ u . v = |u||v|cos(\\theta) $$\n",
    "    &nbsp;\n",
    "$$ \\vert{u}\\vert = \\sqrt{x^{2} + y^{2} + z^{2}} $$    \n",
    "    \n",
    "<p style=\"font-family: Comic Sans; font-size:11pt\">    \n",
    "Note that this expression works for both two-dimensional and three-dimensional \n",
    "vectors. Use Equation to write a program that calculates the angle between \n",
    "two user-supplied two-dimensional vectors. \n",
    "   \n",
    "</div>"
   ]
  },
  {
   "cell_type": "code",
   "execution_count": null,
   "id": "84d88af1-2657-46ce-81e8-b5a657d51067",
   "metadata": {},
   "outputs": [],
   "source": [
    "% Define variables: \n",
    "% ux, uy, uz -- Components of vector 1 \n",
    "% vx, vy, uz -- Components of vector 2 \n",
    "% abs_u -- Magnitude of u \n",
    "% abs_v -- Magnitude of v \n",
    "% costheta -- Cosine of angle bewteen the vectors \n",
    "% theta -- Angle between the vectors (deg) \n",
    "\n",
    "ux = input('Enter vector 1 x: '); \n",
    "uy = input('Enter vector 1 y: '); \n",
    "uz = input('Enter vector 1 z: '); \n",
    "\n",
    "\n",
    "vx = input('Enter vector 2 x: '); \n",
    "vy = input('Enter vector 2 y: '); \n",
    "vz = input('Enter vector 2 z: '); \n",
    "\n",
    "% Calculate the cosine of the angle between the vectors \n",
    "abs_u = sqrt(ux^2 + uy^2 + uz^2); \n",
    "abs_v = sqrt(vx^2 + vy^2 + vz^2); \n",
    "costheta = (ux * vx + uy * vy + uz * vz) / (abs_u * abs_v); \n",
    "theta = acos(costheta) * 180/pi; \n",
    "disp (['The angle between the two vectors is ' num2str(theta) ' deg']); "
   ]
  },
  {
   "cell_type": "markdown",
   "id": "9c353b6d-f70b-4b5e-b5bc-9ee8d9ba53e6",
   "metadata": {},
   "source": [
    "<div class=\"alert alert-block alert-info\">\n",
    "<b>Problem 04 </b>  \n",
    "<p style=\"font-family: Comic Sans; font-size:11pt\">\n",
    "Create Matrix Variable whit $A$, $B$\n",
    "    $$ A = \\begin{bmatrix} 1 & 0 & 0 & 0 \\\\ 2 & 3 & 0 & 0 \\\\ 4 & 5 & 6 & 0 \\\\ 7 & 8 & 9 & 1\\end{bmatrix}$$ \n",
    "    &nbsp;\n",
    "    $$ B = \\begin{bmatrix} 2 & 9 & 0  \\\\ 7 & 5 & 6  \\end{bmatrix}$$\n",
    "</div>"
   ]
  },
  {
   "cell_type": "code",
   "execution_count": null,
   "id": "48dc253f-d124-4233-8d16-5bea945c2a8d",
   "metadata": {},
   "outputs": [],
   "source": [
    "###  ( i )\n",
    "I = flip(B(1:end))"
   ]
  },
  {
   "cell_type": "markdown",
   "id": "1cc734e9-6706-41db-a1df-6c1363119566",
   "metadata": {},
   "source": [
    "$$ i = \\begin{bmatrix} 6 & 0 & 5 & 9 & 7 & 2   \\end{bmatrix}$$"
   ]
  },
  {
   "cell_type": "code",
   "execution_count": null,
   "id": "ffca1d44-0586-4eb5-8145-e23a9bcfa3b8",
   "metadata": {},
   "outputs": [],
   "source": [
    "###  ( ii )\n",
    "ii = [flip(B(2,:)) ;B(1,:)]"
   ]
  },
  {
   "cell_type": "markdown",
   "id": "ac45e3f3-d63c-41aa-ba68-976fa572f969",
   "metadata": {},
   "source": [
    "$$ ii = \\begin{bmatrix} 6 & 5 & 7 \\\\ 2 & 9 & 0  \\end{bmatrix}$$"
   ]
  },
  {
   "cell_type": "code",
   "execution_count": null,
   "id": "4d607154-de1f-47c6-9c46-6c0cd552eec9",
   "metadata": {},
   "outputs": [],
   "source": [
    "###  ( iii )\n",
    "iii = B' "
   ]
  },
  {
   "cell_type": "markdown",
   "id": "5389c31b-f9bc-4e69-ae0b-82c6bd25abd4",
   "metadata": {},
   "source": [
    "$$ iii = \\begin{bmatrix} 6 & 7 \\\\ 9 & 5 \\\\ 0 & 6  \\end{bmatrix}$$"
   ]
  },
  {
   "cell_type": "code",
   "execution_count": null,
   "id": "180d3fa6-967a-4f12-8535-372a51ba7fbc",
   "metadata": {},
   "outputs": [],
   "source": [
    "###  ( iv )\n",
    "iv = [A(1) A(end)]"
   ]
  },
  {
   "cell_type": "markdown",
   "id": "f624b54a-28c8-48c4-8b37-1a122ca96c18",
   "metadata": {},
   "source": [
    "$$ iv = \\begin{bmatrix} 1 & 1  \\end{bmatrix}$$"
   ]
  },
  {
   "cell_type": "code",
   "execution_count": null,
   "id": "9cdf5b2d-15a2-4721-b75f-4376d0368cf7",
   "metadata": {},
   "outputs": [],
   "source": [
    "###  ( v )\n",
    "v = [repmat(A(1,end),1,5)] "
   ]
  },
  {
   "cell_type": "markdown",
   "id": "04125ef6-0c68-41df-8ed4-e6ff4a3b0b4e",
   "metadata": {},
   "source": [
    "$$ v = \\begin{bmatrix} 0 & 0 & 0 & 0 & 0  \\end{bmatrix}$$"
   ]
  },
  {
   "cell_type": "code",
   "execution_count": null,
   "id": "a5cc1079-081d-487e-a792-fbd87b6f8273",
   "metadata": {},
   "outputs": [],
   "source": [
    "###  ( vi )\n",
    "A([1 3],:) = []\n",
    "A(:,[2 4]) = []"
   ]
  },
  {
   "cell_type": "markdown",
   "id": "8f9fcb59-78fe-44a7-8769-1a7b2c6c5526",
   "metadata": {},
   "source": [
    "$$ vi = \\begin{bmatrix} 2 & 0 \\\\  7 & 9  \\end{bmatrix}$$"
   ]
  },
  {
   "cell_type": "code",
   "execution_count": null,
   "id": "3051f629-0b6e-4c8b-a1eb-df2f96c69b1e",
   "metadata": {},
   "outputs": [],
   "source": [
    "###  ( vii )\n",
    "vii = [B(1:2,2:3) A(2:3,1:2)]"
   ]
  },
  {
   "cell_type": "markdown",
   "id": "e4665060-3990-42f1-974b-5ca508eec57b",
   "metadata": {},
   "source": [
    "$$ vii = \\begin{bmatrix} 9 & 0 & 2 & 3 \\\\  5 & 6 & 4 & 5  \\end{bmatrix}$$"
   ]
  },
  {
   "cell_type": "code",
   "execution_count": null,
   "id": "99e95e5b-7bb5-4fe8-ab2c-34ce3938c2ba",
   "metadata": {},
   "outputs": [],
   "source": []
  }
 ],
 "metadata": {
  "kernelspec": {
   "display_name": "Python 3 (ipykernel)",
   "language": "python",
   "name": "python3"
  },
  "language_info": {
   "codemirror_mode": {
    "name": "ipython",
    "version": 3
   },
   "file_extension": ".py",
   "mimetype": "text/x-python",
   "name": "python",
   "nbconvert_exporter": "python",
   "pygments_lexer": "ipython3",
   "version": "3.8.12"
  }
 },
 "nbformat": 4,
 "nbformat_minor": 5
}
