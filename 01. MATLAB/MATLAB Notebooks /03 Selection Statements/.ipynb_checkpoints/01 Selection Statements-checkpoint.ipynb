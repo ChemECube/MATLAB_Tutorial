{
 "cells": [
  {
   "cell_type": "markdown",
   "id": "3fb55674-a490-44f2-8d7a-65f755dbd817",
   "metadata": {},
   "source": [
    "<img src=\"../../../images/banners/10 pic.jpg\" alt=\"if-block\" width=700 align=\"center\" />"
   ]
  },
  {
   "cell_type": "markdown",
   "id": "29adca17-86af-44bf-b201-72312db42585",
   "metadata": {},
   "source": [
    "## <img src=\"https://s22.picofile.com/file/8449797050/MATLAB.png\" width=\"23\"/> $Selection$ $ Statements$ "
   ]
  },
  {
   "cell_type": "markdown",
   "id": "107deb39-348f-4e36-aafd-6343aaecdb6d",
   "metadata": {},
   "source": [
    "## <img src=\"https://s23.picofile.com/file/8449796734/toc.png\" width=\"20\"/> Table of Contents \n",
    "* [$Selection$ $ Statements$ ](#Exercises)\n",
    "    * [$1. Summary$](#1.Summary)\n",
    "    * [$2. Exercises$](#2.Exercises)\n",
    "    * [$3.$ $disp ()$](#3.disp)\n",
    "* [<img src=\"https://s23.picofile.com/file/8449796568/checkmark.png\" width=\"12\"/> Conclusion](#<img_src=\"../../images/logos/checkmark.png\"_width=\"20\"/>_conclusion)\n",
    "* [$FAQ$](#faq)\n",
    "\n",
    "---"
   ]
  },
  {
   "cell_type": "markdown",
   "id": "41b37526-6f47-4e87-8a7c-5cfd898f5bcf",
   "metadata": {},
   "source": [
    "| Chapter 04 | | | | |\n",
    "|:--|:--|:--|:--|:--|\n",
    "|`if`|`else`|`logical`|`otherwise`|`log`|\n",
    "|`switch`|`elseif`|`case`|`error`|`isletter`|\n",
    "|`isa`|`menu`|`isempty`|`iskeyword`||\n",
    "|`listdlg`|\n"
   ]
  },
  {
   "cell_type": "markdown",
   "id": "3d1957ce-1600-478b-9b6e-a5bc78b4d062",
   "metadata": {},
   "source": [
    "## $Exercises$"
   ]
  },
  {
   "cell_type": "markdown",
   "id": "de9240da-2960-438f-a9ee-40ec30ba94de",
   "metadata": {},
   "source": [
    "<div class=\"alert alert-block alert-info\">\n",
    "<b>Exercise 01</b>\n",
    "<p style=\"font-family: Comic Sans; font-size:11pt\"> \n"
   ]
  },
  {
   "cell_type": "code",
   "execution_count": null,
   "id": "26c5d506-f704-4a30-a548-d3543903b448",
   "metadata": {},
   "outputs": [],
   "source": [
    "x = 10;\n",
    "if x ~= 0\n",
    "    disp('Nonzero value')\n",
    "end"
   ]
  },
  {
   "cell_type": "markdown",
   "id": "d5342ee3-17cc-4e41-90b2-8c250c1ca95b",
   "metadata": {},
   "source": [
    "<div class=\"alert alert-block alert-info\">\n",
    "<b>Exercise 02</b>\n",
    "<p style=\"font-family: Comic Sans; font-size:11pt\"> "
   ]
  },
  {
   "cell_type": "code",
   "execution_count": null,
   "id": "7c04436e-7628-4e67-88ba-e7d491f996e0",
   "metadata": {},
   "outputs": [],
   "source": [
    "a = 5;\n",
    "if a > 10    % this condition is not fulfilled, so nothing will happen\n",
    "    disp('OK')\n",
    "end\n",
    "\n",
    "if a < 10    % this condition is fulfilled, so the statements between the if...end are executed\n",
    "    disp('Not OK')\n",
    "end"
   ]
  },
  {
   "cell_type": "markdown",
   "id": "c78aa04c-2963-491d-bf55-18a666011c53",
   "metadata": {},
   "source": [
    "<div class=\"alert alert-block alert-info\">\n",
    "<b>Exercise 03</b>\n",
    "<p style=\"font-family: Comic Sans; font-size:11pt\"> \n"
   ]
  },
  {
   "cell_type": "code",
   "execution_count": null,
   "id": "5bb245aa-0965-4f14-9db0-70a51678d9b8",
   "metadata": {},
   "outputs": [],
   "source": [
    "x = 10;\n",
    "minVal = 2;\n",
    "maxVal = 6;\n",
    "\n",
    "if (x >= minVal) && (x <= maxVal)\n",
    "    disp('Value within specified range.')\n",
    "elseif (x > maxVal)\n",
    "    disp('Value exceeds maximum value.')\n",
    "else\n",
    "    disp('Value is below minimum value.')\n",
    "end"
   ]
  },
  {
   "cell_type": "markdown",
   "id": "94c22a7a-df52-4b3b-8a38-aaf96865e726",
   "metadata": {},
   "source": [
    "<div class=\"alert alert-block alert-info\">\n",
    "<b>Exercise 04</b>\n",
    "<p style=\"font-family: Comic Sans; font-size:11pt\"> \n"
   ]
  },
  {
   "cell_type": "code",
   "execution_count": null,
   "id": "aee3f642-dffd-499d-b3d0-b4eab0d1f615",
   "metadata": {},
   "outputs": [],
   "source": [
    "a = 9;\n",
    "if mod(a,2)== 0 % MOD - modulo operation, return the remainder after division of 'a' by 2\n",
    "     disp('a is even')\n",
    "    else\n",
    "      if mod(a,3)==0\n",
    "         disp('3 is a divisor of a')\n",
    "    end\n",
    "end"
   ]
  },
  {
   "cell_type": "markdown",
   "id": "dff8d210-6bb9-4771-8283-47c8d0f8a5be",
   "metadata": {},
   "source": [
    "<div class=\"alert alert-block alert-info\">\n",
    "<b>Exercise 05</b>\n",
    "<p style=\"font-family: Comic Sans; font-size:11pt\"> \n"
   ]
  },
  {
   "cell_type": "code",
   "execution_count": null,
   "id": "61d82579-303a-497d-a652-6c291ef4fc6f",
   "metadata": {},
   "outputs": [],
   "source": [
    "a = 15;\n",
    "if mod(a,2)==0\n",
    "    disp('a is even')\n",
    "elseif mod(a,3)==0\n",
    "    disp('3 is a divisor of a')\n",
    "elseif mod(a,5)==0\n",
    "    disp('5 is a divisor of a')\n",
    "end"
   ]
  },
  {
   "cell_type": "markdown",
   "id": "da0abe52-6090-474c-a208-8d9c3c6f2a6b",
   "metadata": {},
   "source": [
    "<div class=\"alert alert-block alert-info\">\n",
    "<b>Exercise 06</b>\n",
    "<p style=\"font-family: Comic Sans; font-size:11pt\"> \n"
   ]
  },
  {
   "cell_type": "code",
   "execution_count": null,
   "id": "82ee2a8f-ab5e-411b-87f7-e86202487300",
   "metadata": {},
   "outputs": [],
   "source": [
    "t = rand(1);\n",
    "if t > 0.75\n",
    "      s = 0;\n",
    "elseif t < 0.25\n",
    "      s = 1;\n",
    "else\n",
    "      s = 1-2*(t-0.25);\n",
    "end"
   ]
  },
  {
   "cell_type": "markdown",
   "id": "5a354727-2642-42af-a5f3-7776dd18fcd1",
   "metadata": {},
   "source": [
    "<div class=\"alert alert-block alert-info\">\n",
    "<b>Exercise 07</b>\n",
    "<p style=\"font-family: Comic Sans; font-size:11pt\"> \n",
    "Simplify this statement:\n",
    "\n",
    "   ``` go\n",
    "        if number > 100\n",
    "           number = 100;\n",
    "        else\n",
    "           number = number;\n",
    "        end\n",
    "   ```"
   ]
  },
  {
   "cell_type": "code",
   "execution_count": null,
   "id": "d2c69a73-e232-4334-bbf9-27f914b7adfb",
   "metadata": {},
   "outputs": [],
   "source": [
    "if number > 100\n",
    "   number = 100;\n",
    "end"
   ]
  },
  {
   "cell_type": "markdown",
   "id": "adb86563-24d1-4883-93ae-bb6ea1e5f4e8",
   "metadata": {},
   "source": [
    "<div class=\"alert alert-block alert-info\">\n",
    "<b>Exercise 08</b>\n",
    "<p style=\"font-family: Comic Sans; font-size:11pt\"> \n",
    "Simplify this statement:\n",
    "\n",
    "   ``` go\n",
    "          if val >= 10\n",
    "               disp('Hello')\n",
    "         elseif val < 10\n",
    "              disp('Hi')\n",
    "         end\n",
    "   ```"
   ]
  },
  {
   "cell_type": "code",
   "execution_count": null,
   "id": "8e2e9724-ab91-454b-88b9-ce5f5dd5a699",
   "metadata": {},
   "outputs": [],
   "source": [
    "if val >= 10\n",
    "      disp('Hello')\n",
    "else\n",
    "      disp('Hi')\n",
    "end"
   ]
  },
  {
   "cell_type": "markdown",
   "id": "60aa5264-2338-49ca-9d34-2ffb24b412ac",
   "metadata": {},
   "source": [
    "<div class=\"alert alert-block alert-info\">\n",
    "<b>Exercise 09</b>\n",
    "<p style=\"font-family: Comic Sans; font-size:11pt\"> \n",
    "In chemistry, the $pH$ of an aqueous solution is a measure of its\n",
    "acidity. The $pH$ scale ranges from $0$ to $14$, inclusive. A solution with a $pH$ of $7$ is said to be neutral, a solution with a $pH$ greater than $7$ is basic, and a solution with a $pH$ less than $7$ is acidic. Write a script that will prompt the user for the $pH$ of a solution, and will print whether it is neutral, basic, or acidic. If the user enters an invalid $pH$, an error\n",
    "message will be printed.\n"
   ]
  },
  {
   "cell_type": "code",
   "execution_count": null,
   "id": "8e65eb39-fbf2-46de-9551-2c21877fa4a7",
   "metadata": {},
   "outputs": [],
   "source": [
    "% Prompts the user for the pH of a solution and prints\n",
    "% whether it is basic, acidic, or neutral\n",
    "ph = input('Enter the pH of the solution: ');\n",
    "\n",
    "if ph >=0 && ph <= 14\n",
    "    if ph < 7\n",
    "             disp('It is acidic')\n",
    "      elseif ph == 7\n",
    "          disp('It is neutral')\n",
    "      elseif ph > 7\n",
    "          disp('It is basic')\n",
    "    end\n",
    "else\n",
    "    disp('Error in pH!')\n",
    "end"
   ]
  },
  {
   "cell_type": "markdown",
   "id": "bd24b3ae-5ecc-4a2b-9527-cbddba14d24f",
   "metadata": {},
   "source": [
    "<div class=\"alert alert-block alert-info\">\n",
    "<b>Exercise 10</b>\n",
    "<p style=\"font-family: Comic Sans; font-size:11pt\"> \n",
    "In aerodynamics, the Mach number is a critical quantity. It is\n",
    "defined as the ratio of the speed of an object to the speed of sound. If the Mach number is less than 1, the flow is subsonic; if the Mach number is equal to 1, the flow is transonic; if the Mach number is greater than 1, the flow is supersonic. Write a script that will prompt the user for the speed of an aircraft and the speed of sound at the aircraft’s current altitude and will print whether the condition is subsonic, transonic, or supersonic."
   ]
  },
  {
   "cell_type": "code",
   "execution_count": null,
   "id": "958557f9-38b4-487a-be21-ed50f48235c8",
   "metadata": {},
   "outputs": [],
   "source": [
    "% Prints whether the speed of an object is subsonic,\n",
    "% transonic, or supersonic based on the Mach number\n",
    "plane_speed = input('Enter the speed of the aircraft: ');\n",
    "sound_speed = input('Enter the speed of sound: ');\n",
    "mach = plane_speed/sound_speed;\n",
    "\n",
    "if mach < 1\n",
    "        disp('Subsonic')\n",
    "     elseif mach == 1\n",
    "        disp('Transonic')\n",
    "    else\n",
    "       disp('Supersonic')\n",
    "end"
   ]
  },
  {
   "cell_type": "markdown",
   "id": "fe1c73ec-45a9-4446-bea5-0b7f8358c818",
   "metadata": {},
   "source": [
    "<img src=\"../../../images/banners/08 pic.png\" alt=\"if-block\" width=700 align=\"center\" />"
   ]
  },
  {
   "cell_type": "markdown",
   "id": "bb390935-53ac-4ef2-9f73-79c70ba4fffc",
   "metadata": {},
   "source": [
    "## <img src=\"https://s22.picofile.com/file/8449797050/MATLAB.png\" width=\"23\"/> $Switch$ $/Case$ "
   ]
  },
  {
   "cell_type": "markdown",
   "id": "6fb2e0b9-85e5-4730-9979-178785d5f676",
   "metadata": {},
   "source": [
    "<div class=\"alert alert-block alert-info\">\n",
    "<b>Exercise 01</b>\n",
    "<p style=\"font-family: Comic Sans; font-size:11pt\"> \n",
    "    \n",
    "$$ y = 3x - 5 , x<0 $$\n",
    "    &nbsp;\n",
    "$$ y = 2 , x=0 $$\n",
    "        &nbsp;\n",
    "$$ y = 2x +1 , x>0 $$"
   ]
  },
  {
   "cell_type": "code",
   "execution_count": null,
   "id": "b7c4f153-d26c-4931-b477-35efcaf90fc0",
   "metadata": {},
   "outputs": [],
   "source": [
    "x = input('x =   ');\n",
    "c = 1*(x<0) + 2*(x==0) + 3*(x>0);\n",
    "\n",
    "switch c\n",
    "\n",
    "    case 1\n",
    "        y=3*x-5;\n",
    "    case 2\n",
    "        y=5;\n",
    "    case 3\n",
    "        y=2*x+1;\n",
    "        \n",
    "end\n",
    "\n",
    "disp('y =   ')\n",
    "disp(y)"
   ]
  },
  {
   "cell_type": "markdown",
   "id": "c1f97b93-20b7-4207-90d4-bfedbf4561e0",
   "metadata": {},
   "source": [
    "<div class=\"alert alert-block alert-info\">\n",
    "<b>Exercise 02</b>\n",
    "<p style=\"font-family: Comic Sans; font-size:11pt\"> \n",
    "Rewrite the following nested if-else statement as a switch\n",
    "statement that accomplishes exactly the same thing. Assume that\n",
    "num is an integer variable that has been initialized, and that there are\n",
    "functions f1, f2, f3, and f4. Do not use any if or if-else statements in\n",
    "the actions in the switch statement, only calls to the four functions.\n",
    "    \n",
    "\n",
    "    \n",
    "   ``` go\n",
    "          if num < -2 || num > 4\n",
    "                f1(num)\n",
    "           else\n",
    "               if num <= 2\n",
    "                     if num >= 0\n",
    "                          f2(num)\n",
    "                     else\n",
    "                         f3(num)\n",
    "                     end\n",
    "               else\n",
    "                     f4(num)\n",
    "               end\n",
    "         end\n",
    "   ```"
   ]
  },
  {
   "cell_type": "code",
   "execution_count": null,
   "id": "0d9f2fca-e7b1-4bd5-ba1c-d4be9c48fc05",
   "metadata": {},
   "outputs": [],
   "source": [
    "switch num\n",
    "    case {-2, -1}\n",
    "          f3(num)\n",
    "    case {0, 1, 2}\n",
    "          f2(num)\n",
    "    case {3, 4}\n",
    "          f4(num)\n",
    "    otherwise\n",
    "          f1(num)\n",
    "end"
   ]
  },
  {
   "cell_type": "markdown",
   "id": "8f58e2f8-293c-4fc1-8a45-342531e59a59",
   "metadata": {},
   "source": [
    "<div class=\"alert alert-block alert-info\">\n",
    "<b>Exercise 03</b>\n",
    "<p style=\"font-family: Comic Sans; font-size:11pt\"> \n",
    "Write a program that takes the values of x and n and calculates the result of the following series using the MATLAB statements.\n",
    "    \n",
    "\n",
    "$$ cos(x) = 1 - \\frac{x^{2}}{2!} + \\frac{x^{4}}{4!} - \\frac{x^{6}}{6!} + \\ . . .        = (-1)^{i+1}  \\frac{x^{2i - 2}}{2i - 2}        $$\n",
    "    \n",
    "<p style=\"font-family: Comic Sans; font-size:11pt\">     \n",
    "If the difference between the series and the actual value is more than 10% error, also calculate and display the relative error percentage.\n",
    " \n",
    "    \n",
    "$$ err = abs(\\frac{exat - app}{exact}) \\times 100 $$"
   ]
  },
  {
   "cell_type": "code",
   "execution_count": null,
   "id": "a0b047cd-14a5-4bbd-9a32-855cd681819e",
   "metadata": {},
   "outputs": [],
   "source": [
    "x = input('x =   ');\n",
    "n = input('n =   ');\n",
    "\n",
    "i = 1:n;\n",
    "p = 2*i - 2;\n",
    "num = x.^p;\n",
    "denom = factorial(p);\n",
    "a = (-1).^(i + 1);\n",
    "s = sum(a.*num./denom);\n",
    "\n",
    "disp('result =    ')\n",
    "disp(s)\n",
    "\n",
    "exact = cos(x);\n",
    "err = 100*abs((exact - s)/exact);\n",
    "\n",
    "if err > 10\n",
    "    disp('err = ')\n",
    "    disp(err)   \n",
    "end"
   ]
  },
  {
   "cell_type": "code",
   "execution_count": null,
   "id": "ff323f2a-3588-40cb-a616-6eaf647c4b22",
   "metadata": {},
   "outputs": [],
   "source": [
    "x = input('x =   ');\n",
    "if x<0\n",
    "     y = 3*x-5;\n",
    "elseif x==0\n",
    "     y = 5;\n",
    "else\n",
    "     y = 2*x+1;\n",
    "end"
   ]
  },
  {
   "cell_type": "markdown",
   "id": "90c16dcb-1fb6-4d4f-af40-144e69c06840",
   "metadata": {},
   "source": [
    "<div class=\"alert alert-block alert-info\">\n",
    "<b>Exercise 04</b>\n",
    "<p style=\"font-family: Comic Sans; font-size:11pt\"> \n",
    "Write a program that takes the value of r and calculates and prints the area of ​​a circle of radius $r$ if this number is real and positive. Otherwise, by printing the error message, indicate that this number is not valid."
   ]
  },
  {
   "cell_type": "code",
   "execution_count": null,
   "id": "2b023e83-d0fa-4a8d-b02a-566fdd2c39bc",
   "metadata": {},
   "outputs": [],
   "source": [
    "r = input('r =      ');\n",
    "\n",
    "if r>0 && isreal(r)\n",
    "    a = pi*r^2;\n",
    "    disp('area = ')\n",
    "    disp(a)\n",
    "else\n",
    "    error('invalid value')\n",
    "end"
   ]
  },
  {
   "cell_type": "markdown",
   "id": "85698c5c-c95c-43b3-b111-8ec78cfa9c70",
   "metadata": {},
   "source": [
    "<div class=\"alert alert-block alert-info\">\n",
    "<b>Exercise 05</b>\n",
    "<p style=\"font-family: Comic Sans; font-size:11pt\"> "
   ]
  },
  {
   "cell_type": "code",
   "execution_count": null,
   "id": "cc39b5bd-0d39-416a-bc77-fc3f5cb603b7",
   "metadata": {},
   "outputs": [],
   "source": [
    "destination= ’ethiopia’;\n",
    "switch destination\n",
    "         case ’florida’\n",
    "           disp(’boring!’)\n",
    "         case ’italy’\n",
    "            disp(’a little less boring’)\n",
    "        case {’turkey’ , ’ethiopia’ }\n",
    "            disp(’exciting’)\n",
    "        otherwise\n",
    "          disp(’i don’’t know about that country’)\n",
    "end"
   ]
  },
  {
   "cell_type": "code",
   "execution_count": null,
   "id": "483ac20f-65c3-4c25-9fd8-f01215e5a6af",
   "metadata": {},
   "outputs": [],
   "source": []
  },
  {
   "cell_type": "markdown",
   "id": "fa45171f-234d-4edf-8924-08715550c8c9",
   "metadata": {},
   "source": [
    "<img src=\"https://s23.picofile.com/file/8449797826/celebrate.png\" alt=\"notebook\" width=200 align=\"center\" />"
   ]
  }
 ],
 "metadata": {
  "kernelspec": {
   "display_name": "Python 3 (ipykernel)",
   "language": "python",
   "name": "python3"
  },
  "language_info": {
   "codemirror_mode": {
    "name": "ipython",
    "version": 3
   },
   "file_extension": ".py",
   "mimetype": "text/x-python",
   "name": "python",
   "nbconvert_exporter": "python",
   "pygments_lexer": "ipython3",
   "version": "3.8.12"
  }
 },
 "nbformat": 4,
 "nbformat_minor": 5
}
