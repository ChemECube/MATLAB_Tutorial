{
 "cells": [
  {
   "cell_type": "markdown",
   "id": "3369e61e-353f-43e2-952d-c7f84da61e8d",
   "metadata": {},
   "source": [
    "# 02 For"
   ]
  },
  {
   "cell_type": "code",
   "execution_count": null,
   "id": "7943eda9-b219-45c7-99e0-d6144bba9f22",
   "metadata": {},
   "outputs": [],
   "source": []
  },
  {
   "cell_type": "code",
   "execution_count": null,
   "id": "5cc6bd66-df56-4b02-ad90-779c780eb2f7",
   "metadata": {},
   "outputs": [],
   "source": []
  },
  {
   "cell_type": "code",
   "execution_count": null,
   "id": "ca6cde45-d16d-43e1-8c84-36402ad9278e",
   "metadata": {},
   "outputs": [],
   "source": []
  }
 ],
 "metadata": {
  "kernelspec": {
   "display_name": "Python 3 (ipykernel)",
   "language": "python",
   "name": "python3"
  },
  "language_info": {
   "codemirror_mode": {
    "name": "ipython",
    "version": 3
   },
   "file_extension": ".py",
   "mimetype": "text/x-python",
   "name": "python",
   "nbconvert_exporter": "python",
   "pygments_lexer": "ipython3",
   "version": "3.8.12"
  }
 },
 "nbformat": 4,
 "nbformat_minor": 5
}
