{
 "cells": [
  {
   "cell_type": "markdown",
   "id": "d9b6cd77-6408-4f5c-aae4-0d35d4cfe391",
   "metadata": {},
   "source": [
    "# 03 While"
   ]
  },
  {
   "cell_type": "code",
   "execution_count": null,
   "id": "98f42a55-a203-4aa6-94fd-a534d013e764",
   "metadata": {},
   "outputs": [],
   "source": []
  },
  {
   "cell_type": "code",
   "execution_count": null,
   "id": "20b6cfa4-18b9-427e-98c7-7253b4829253",
   "metadata": {},
   "outputs": [],
   "source": []
  },
  {
   "cell_type": "code",
   "execution_count": null,
   "id": "ff372791-4ecb-4d2d-a7d7-796305e07530",
   "metadata": {},
   "outputs": [],
   "source": []
  }
 ],
 "metadata": {
  "kernelspec": {
   "display_name": "Python 3 (ipykernel)",
   "language": "python",
   "name": "python3"
  },
  "language_info": {
   "codemirror_mode": {
    "name": "ipython",
    "version": 3
   },
   "file_extension": ".py",
   "mimetype": "text/x-python",
   "name": "python",
   "nbconvert_exporter": "python",
   "pygments_lexer": "ipython3",
   "version": "3.8.12"
  }
 },
 "nbformat": 4,
 "nbformat_minor": 5
}
